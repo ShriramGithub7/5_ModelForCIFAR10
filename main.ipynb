{
  "cells": [
    {
      "cell_type": "markdown",
      "metadata": {
        "id": "view-in-github",
        "colab_type": "text"
      },
      "source": [
        "<a href=\"https://colab.research.google.com/github/ShriramGithub7/5_ModelForCIFAR10/blob/main/main.ipynb\" target=\"_parent\"><img src=\"https://colab.research.google.com/assets/colab-badge.svg\" alt=\"Open In Colab\"/></a>"
      ]
    },
    {
      "cell_type": "markdown",
      "source": [
        "# Mount model.py from drive and import required libraries"
      ],
      "metadata": {
        "id": "sne5W3FwRTjh"
      }
    },
    {
      "cell_type": "code",
      "execution_count": 8,
      "metadata": {
        "colab": {
          "base_uri": "https://localhost:8080/"
        },
        "id": "Hz_zUR7Xw0L5",
        "outputId": "aab108b8-cd24-4244-a68c-55ec3582abd3"
      },
      "outputs": [
        {
          "output_type": "stream",
          "name": "stdout",
          "text": [
            "Mounted at /content/drive\n"
          ]
        }
      ],
      "source": [
        "from google.colab import drive\n",
        "drive.mount('/content/drive', force_remount=True)"
      ]
    },
    {
      "cell_type": "code",
      "execution_count": 9,
      "metadata": {
        "id": "Ce2DesN6yAqe"
      },
      "outputs": [],
      "source": [
        "!cp /content/drive/MyDrive/Colab\\ Notebooks/model.py ."
      ]
    },
    {
      "cell_type": "code",
      "execution_count": 10,
      "metadata": {
        "id": "da8nS2YHyD9b"
      },
      "outputs": [],
      "source": [
        "import model\n",
        "import torch\n",
        "import torchvision\n",
        "from torchvision import datasets, transforms\n",
        "import albumentations as A\n",
        "import numpy as np\n",
        "import torch.nn as nn\n",
        "import torch.nn.functional as F"
      ]
    },
    {
      "cell_type": "code",
      "execution_count": 11,
      "metadata": {
        "id": "CHMAFYYGyG44"
      },
      "outputs": [],
      "source": [
        "net = model.Net()"
      ]
    },
    {
      "cell_type": "markdown",
      "source": [
        "# Apply Albumentation and transformation on dataset"
      ],
      "metadata": {
        "id": "mMQ3QL-jRl3T"
      }
    },
    {
      "cell_type": "code",
      "execution_count": 5,
      "metadata": {
        "colab": {
          "base_uri": "https://localhost:8080/",
          "height": 101,
          "referenced_widgets": [
            "23e13295d5f744a7ab58937a89d2d85a",
            "8fe1c5d376534ed58b0f3dfa7b79f084",
            "629b4e4a87c24a7fa9e51dfdfb0dfe8f",
            "8ed0b48eb39e4e4095721db24b75f5b0",
            "512a3b98308c4fd5a68322b6fef0a1c6",
            "321e6c8a719b411886a7f747efa9472b",
            "ae621772fa944375a50ddd16049274fc",
            "59081726e01043c2a1c2c2aca7e737dc",
            "f6b0c65f8a0d499a829156df6fdfc675",
            "79e679bf9d6c49859fdd51c6837bb58d",
            "6b8c993e18b648469d4e80a94750e0a1"
          ]
        },
        "id": "Yta9cs7H9Nu_",
        "outputId": "f731cd6e-5d94-4675-fc85-2763c1ef0d1d"
      },
      "outputs": [
        {
          "output_type": "stream",
          "name": "stdout",
          "text": [
            "Downloading https://www.cs.toronto.edu/~kriz/cifar-10-python.tar.gz to ./data/cifar-10-python.tar.gz\n"
          ]
        },
        {
          "output_type": "display_data",
          "data": {
            "text/plain": [
              "  0%|          | 0/170498071 [00:00<?, ?it/s]"
            ],
            "application/vnd.jupyter.widget-view+json": {
              "version_major": 2,
              "version_minor": 0,
              "model_id": "23e13295d5f744a7ab58937a89d2d85a"
            }
          },
          "metadata": {}
        },
        {
          "output_type": "stream",
          "name": "stdout",
          "text": [
            "Extracting ./data/cifar-10-python.tar.gz to ./data\n",
            "Files already downloaded and verified\n"
          ]
        }
      ],
      "source": [
        "mean=(0.4914, 0.4822, 0.4465)\n",
        "std=(0.2023, 0.1994, 0.2010)\n",
        "\n",
        "def albumentations_transform(image):\n",
        "    image = np.array(image)\n",
        "    augmented = A.Compose(\n",
        "                [A.HorizontalFlip(),\n",
        "                A.ShiftScaleRotate(shift_limit=0.0625, scale_limit=0.1,rotate_limit=45),\n",
        "                A.CoarseDropout(max_holes=1, max_height=16, max_width=16, min_holes=1,min_height=16, min_width=16,\n",
        "                           fill_value=np.mean(mean), mask_fill_value=None),\n",
        "        ])(image=image)[\"image\"]\n",
        "    return transforms.ToTensor()(augmented)\n",
        "\n",
        "transform = transforms.Compose([\n",
        "    transforms.Lambda(albumentations_transform),\n",
        "    transforms.Normalize(mean, std),\n",
        "])\n",
        "\n",
        "trainset = torchvision.datasets.CIFAR10(root='./data', train=True,\n",
        "                                        download=True, transform=transform)\n",
        "\n",
        "batch_size = 4\n",
        "\n",
        "trainloader = torch.utils.data.DataLoader(trainset, batch_size=batch_size,\n",
        "shuffle=True, num_workers=2)\n",
        "\n",
        "testset = torchvision.datasets.CIFAR10(root='./data', train=False, \n",
        "                                       download=True, transform=transform)\n",
        "\n",
        "testloader = torch.utils.data.DataLoader(testset, batch_size=batch_size,\n",
        "shuffle=False, num_workers=2)\n",
        "\n",
        "classes = ('plane', 'car', 'bird', 'cat', 'deer', 'dog','frog', 'horse', 'ship', 'truck')"
      ]
    },
    {
      "cell_type": "markdown",
      "source": [
        "# View few images from the batch"
      ],
      "metadata": {
        "id": "GuWtViVtRuXk"
      }
    },
    {
      "cell_type": "code",
      "execution_count": 6,
      "metadata": {
        "colab": {
          "base_uri": "https://localhost:8080/",
          "height": 190
        },
        "id": "Dg7Dj_Di90M2",
        "outputId": "3ff6e0ca-336d-4353-cb75-120d7c40d476"
      },
      "outputs": [
        {
          "output_type": "stream",
          "name": "stderr",
          "text": [
            "WARNING:matplotlib.image:Clipping input data to the valid range for imshow with RGB data ([0..1] for floats or [0..255] for integers).\n"
          ]
        },
        {
          "output_type": "stream",
          "name": "stdout",
          "text": [
            "  car   dog  deer plane\n"
          ]
        },
        {
          "output_type": "execute_result",
          "data": {
            "text/plain": [
              "torch.Size([4, 3, 32, 32])"
            ]
          },
          "metadata": {},
          "execution_count": 6
        },
        {
          "output_type": "display_data",
          "data": {
            "text/plain": [
              "<Figure size 432x288 with 1 Axes>"
            ],
            "image/png": "[encoded data removed]"
          },
          "metadata": {
            "needs_background": "light"
          }
        }
      ],
      "source": [
        "import matplotlib.pyplot as plt\n",
        "%matplotlib inline\n",
        "import numpy as np\n",
        "\n",
        "def show(img):\n",
        "  img = img/2 + 0.5\n",
        "  npimg= img.numpy()\n",
        "  plt.imshow(np.transpose(npimg, (1, 2, 0)))\n",
        "\n",
        "dataiter = iter(trainloader)\n",
        "images, labels= next(dataiter)\n",
        "\n",
        "\n",
        "show(torchvision.utils.make_grid(images, normalize=False))\n",
        "\n",
        "print(' '.join('%5s' % classes[labels[j]] for j in range (4)))\n",
        "\n",
        "images.shape"
      ]
    },
    {
      "cell_type": "markdown",
      "source": [
        "# Use CUDA as a devide"
      ],
      "metadata": {
        "id": "3geDmQVIRwdd"
      }
    },
    {
      "cell_type": "code",
      "execution_count": 5,
      "metadata": {
        "id": "xN02RwVc93SI"
      },
      "outputs": [],
      "source": [
        "use_cuda = torch.cuda.is_available()\n",
        "device = torch.device(\"cuda\" if use_cuda else \"cpu\")"
      ]
    },
    {
      "cell_type": "markdown",
      "source": [
        "# Create object of the model and print summary to know parameters"
      ],
      "metadata": {
        "id": "EjRHKJ_3Rz7V"
      }
    },
    {
      "cell_type": "code",
      "execution_count": 8,
      "metadata": {
        "colab": {
          "base_uri": "https://localhost:8080/"
        },
        "id": "JM7Q7uWJ96sv",
        "outputId": "f67d4249-a8fc-418d-e65f-0bed1d1ffc92"
      },
      "outputs": [
        {
          "output_type": "stream",
          "name": "stdout",
          "text": [
            "Looking in indexes: https://pypi.org/simple, https://us-python.pkg.dev/colab-wheels/public/simple/\n",
            "Requirement already satisfied: torchsummary in /usr/local/lib/python3.8/dist-packages (1.5.1)\n",
            "----------------------------------------------------------------\n",
            "        Layer (type)               Output Shape         Param #\n",
            "================================================================\n",
            "            Conv2d-1           [-1, 16, 32, 32]             448\n",
            "       BatchNorm2d-2           [-1, 16, 32, 32]              32\n",
            "              ReLU-3           [-1, 16, 32, 32]               0\n",
            "           Dropout-4           [-1, 16, 32, 32]               0\n",
            "            Conv2d-5           [-1, 32, 32, 32]           4,640\n",
            "       BatchNorm2d-6           [-1, 32, 32, 32]              64\n",
            "              ReLU-7           [-1, 32, 32, 32]               0\n",
            "           Dropout-8           [-1, 32, 32, 32]               0\n",
            "            Conv2d-9           [-1, 64, 15, 15]          18,496\n",
            "      BatchNorm2d-10           [-1, 64, 15, 15]             128\n",
            "             ReLU-11           [-1, 64, 15, 15]               0\n",
            "          Dropout-12           [-1, 64, 15, 15]               0\n",
            "           Conv2d-13            [-1, 128, 8, 8]          73,856\n",
            "      BatchNorm2d-14            [-1, 128, 8, 8]             256\n",
            "             ReLU-15            [-1, 128, 8, 8]               0\n",
            "          Dropout-16            [-1, 128, 8, 8]               0\n",
            "           Conv2d-17             [-1, 64, 4, 4]          73,792\n",
            "      BatchNorm2d-18             [-1, 64, 4, 4]             128\n",
            "             ReLU-19             [-1, 64, 4, 4]               0\n",
            "          Dropout-20             [-1, 64, 4, 4]               0\n",
            "           Conv2d-21             [-1, 16, 4, 4]           9,232\n",
            "      BatchNorm2d-22             [-1, 16, 4, 4]              32\n",
            "             ReLU-23             [-1, 16, 4, 4]               0\n",
            "          Dropout-24             [-1, 16, 4, 4]               0\n",
            "           Conv2d-25             [-1, 32, 4, 4]           4,640\n",
            "      BatchNorm2d-26             [-1, 32, 4, 4]              64\n",
            "             ReLU-27             [-1, 32, 4, 4]               0\n",
            "          Dropout-28             [-1, 32, 4, 4]               0\n",
            "        AvgPool2d-29             [-1, 32, 2, 2]               0\n",
            "           Linear-30                   [-1, 64]           8,256\n",
            "           Linear-31                   [-1, 10]             650\n",
            "================================================================\n",
            "Total params: 194,714\n",
            "Trainable params: 194,714\n",
            "Non-trainable params: 0\n",
            "----------------------------------------------------------------\n",
            "Input size (MB): 0.01\n",
            "Forward/backward pass size (MB): 2.25\n",
            "Params size (MB): 0.74\n",
            "Estimated Total Size (MB): 3.00\n",
            "----------------------------------------------------------------\n"
          ]
        }
      ],
      "source": [
        "!pip install torchsummary\n",
        "from torchsummary import summary\n",
        "\n",
        "net = model.Net().to(device)\n",
        "summary(net, input_size=(3, 32, 32))"
      ]
    },
    {
      "cell_type": "markdown",
      "source": [
        "# Model Training and Testing functions"
      ],
      "metadata": {
        "id": "Vgiza2mSR5ml"
      }
    },
    {
      "cell_type": "code",
      "execution_count": 10,
      "metadata": {
        "id": "hYKuC9FYOTZI"
      },
      "outputs": [],
      "source": [
        "from tqdm import tqdm\n",
        "import matplotlib.pyplot as plt\n",
        "import numpy\n",
        "\n",
        "train_losses = []\n",
        "test_losses = []\n",
        "train_acc = []\n",
        "test_acc = []\n",
        "\n",
        "def train(model, device, trainloader, optimizer, epoch):\n",
        "  #model.train()\n",
        "  trainloader = trainloader\n",
        "  correct = 0\n",
        "  processed = 0\n",
        "  running_loss = 0.0\n",
        "  for batch_idx, data in enumerate(trainloader, 0):\n",
        "    \n",
        "    # get samples\n",
        "    inputs, labels = data\n",
        "    inputs, labels = inputs.to(device), labels.to(device)\n",
        "\n",
        "\n",
        "    # zero the parameter gradients\n",
        "    optimizer.zero_grad()\n",
        "\n",
        "    # forward + backward + optimize\n",
        "    outputs = net(inputs).to(device)\n",
        "    loss = criterion(outputs, labels)\n",
        "    train_losses.append(loss.item())\n",
        "\n",
        "    loss.backward()\n",
        "    optimizer.step()\n",
        "\n",
        "    pred = outputs.argmax(dim=1, keepdim=True)  \n",
        "    correct += pred.eq(labels.view_as(pred)).sum().item()\n",
        "    processed += len(data)\n",
        "\n",
        "    running_loss += loss.item()\n",
        "\n",
        "    if batch_idx % 6000 == 5999:    # print every 2000 mini-batches\n",
        "            print('[%d, %5d] loss: %.3f' %\n",
        "                  (epoch + 1, batch_idx + 1, running_loss / 6000))\n",
        "            running_loss = 0.0\n",
        "\n",
        "\n",
        " \n",
        "def test(model, device, testloader):\n",
        "    test_loss = 0\n",
        "    correct = 0\n",
        "       \n",
        "    with torch.no_grad():\n",
        "        for data, labels in testloader:\n",
        "            data, labels = data.to(device), labels.to(device)\n",
        "            output = net(data)\n",
        "            test_loss += criterion(output, labels).item()  # sum up batch loss\n",
        "            pred = output.argmax(dim=1, keepdim=True)  # get the index of the max log-probability\n",
        "            correct += pred.eq(labels.view_as(pred)).sum().item()\n",
        "         \n",
        "\n",
        "    test_loss /= len(testloader.dataset)\n",
        "    test_losses.append(test_loss)\n",
        "\n",
        "    print('\\nTest set: Average loss: {:.4f}, Accuracy: {}/{} ({:.2f}%)\\n'.format(\n",
        "          test_loss, correct, len(testloader.dataset),\n",
        "          100. * correct / len(testloader.dataset)))\n",
        "      \n",
        "    test_acc.append(100. * correct / len(testloader.dataset))\n",
        "  \n",
        "  "
      ]
    },
    {
      "cell_type": "markdown",
      "source": [
        "# Setup loss and optimizer"
      ],
      "metadata": {
        "id": "rTGZempUSDSF"
      }
    },
    {
      "cell_type": "code",
      "source": [
        "import torch.nn as nn\n",
        "import torch.optim as optim\n",
        "\n",
        "criterion = nn.CrossEntropyLoss().to(device)\n",
        "optimizer = optim.SGD(net.parameters(), lr=0.001, momentum=0.9)"
      ],
      "metadata": {
        "id": "5h_7mUP_SJh2"
      },
      "execution_count": 12,
      "outputs": []
    },
    {
      "cell_type": "markdown",
      "source": [
        "# Train the model and test accuracy after each epoch"
      ],
      "metadata": {
        "id": "ggIhrPnsSLIV"
      }
    },
    {
      "cell_type": "code",
      "execution_count": null,
      "metadata": {
        "id": "JhuuN-sECvyD",
        "outputId": "df5cddd2-a12b-4fd4-c55a-feec63dd3425",
        "colab": {
          "base_uri": "https://localhost:8080/"
        }
      },
      "outputs": [
        {
          "output_type": "stream",
          "name": "stdout",
          "text": [
            "[1,  6000] loss: 1.905\n",
            "[1, 12000] loss: 1.686\n",
            "\n",
            "Test set: Average loss: 0.4064, Accuracy: 4053/10000 (40.53%)\n",
            "\n",
            "[2,  6000] loss: 1.556\n",
            "[2, 12000] loss: 1.458\n",
            "\n",
            "Test set: Average loss: 0.3572, Accuracy: 4757/10000 (47.57%)\n",
            "\n",
            "[3,  6000] loss: 1.385\n",
            "[3, 12000] loss: 1.338\n",
            "\n",
            "Test set: Average loss: 0.3266, Accuracy: 5306/10000 (53.06%)\n",
            "\n",
            "[4,  6000] loss: 1.287\n",
            "[4, 12000] loss: 1.258\n",
            "\n",
            "Test set: Average loss: 0.3082, Accuracy: 5564/10000 (55.64%)\n",
            "\n",
            "[5,  6000] loss: 1.219\n",
            "[5, 12000] loss: 1.201\n",
            "\n",
            "Test set: Average loss: 0.3040, Accuracy: 5682/10000 (56.82%)\n",
            "\n",
            "[6,  6000] loss: 1.172\n",
            "[6, 12000] loss: 1.155\n",
            "\n",
            "Test set: Average loss: 0.2912, Accuracy: 5846/10000 (58.46%)\n",
            "\n",
            "[7,  6000] loss: 1.130\n",
            "[7, 12000] loss: 1.127\n",
            "\n",
            "Test set: Average loss: 0.2796, Accuracy: 6017/10000 (60.17%)\n",
            "\n",
            "[8,  6000] loss: 1.092\n",
            "[8, 12000] loss: 1.086\n",
            "\n",
            "Test set: Average loss: 0.2729, Accuracy: 6180/10000 (61.80%)\n",
            "\n",
            "[9,  6000] loss: 1.078\n",
            "[9, 12000] loss: 1.063\n",
            "\n",
            "Test set: Average loss: 0.2640, Accuracy: 6250/10000 (62.50%)\n",
            "\n",
            "[10,  6000] loss: 1.049\n",
            "[10, 12000] loss: 1.041\n",
            "\n",
            "Test set: Average loss: 0.2627, Accuracy: 6298/10000 (62.98%)\n",
            "\n",
            "[11,  6000] loss: 1.034\n",
            "[11, 12000] loss: 1.024\n",
            "\n",
            "Test set: Average loss: 0.2554, Accuracy: 6397/10000 (63.97%)\n",
            "\n",
            "[12,  6000] loss: 0.999\n",
            "[12, 12000] loss: 1.012\n",
            "\n",
            "Test set: Average loss: 0.2606, Accuracy: 6305/10000 (63.05%)\n",
            "\n",
            "[13,  6000] loss: 0.995\n",
            "[13, 12000] loss: 0.997\n",
            "\n",
            "Test set: Average loss: 0.2472, Accuracy: 6510/10000 (65.10%)\n",
            "\n",
            "[14,  6000] loss: 0.979\n",
            "[14, 12000] loss: 0.982\n",
            "\n",
            "Test set: Average loss: 0.2510, Accuracy: 6443/10000 (64.43%)\n",
            "\n",
            "[15,  6000] loss: 0.973\n",
            "[15, 12000] loss: 0.960\n",
            "\n",
            "Test set: Average loss: 0.2455, Accuracy: 6545/10000 (65.45%)\n",
            "\n",
            "[16,  6000] loss: 0.951\n",
            "[16, 12000] loss: 0.964\n",
            "\n",
            "Test set: Average loss: 0.2427, Accuracy: 6595/10000 (65.95%)\n",
            "\n",
            "[17,  6000] loss: 0.945\n",
            "[17, 12000] loss: 0.944\n",
            "\n",
            "Test set: Average loss: 0.2493, Accuracy: 6518/10000 (65.18%)\n",
            "\n",
            "[18,  6000] loss: 0.933\n",
            "[18, 12000] loss: 0.935\n",
            "\n",
            "Test set: Average loss: 0.2443, Accuracy: 6630/10000 (66.30%)\n",
            "\n",
            "[19,  6000] loss: 0.935\n",
            "[19, 12000] loss: 0.922\n",
            "\n",
            "Test set: Average loss: 0.2367, Accuracy: 6687/10000 (66.87%)\n",
            "\n",
            "[20,  6000] loss: 0.918\n",
            "[20, 12000] loss: 0.904\n",
            "\n",
            "Test set: Average loss: 0.2400, Accuracy: 6678/10000 (66.78%)\n",
            "\n",
            "[21,  6000] loss: 0.910\n",
            "[21, 12000] loss: 0.911\n",
            "\n",
            "Test set: Average loss: 0.2433, Accuracy: 6632/10000 (66.32%)\n",
            "\n",
            "[22,  6000] loss: 0.888\n",
            "[22, 12000] loss: 0.909\n",
            "\n",
            "Test set: Average loss: 0.2348, Accuracy: 6706/10000 (67.06%)\n",
            "\n",
            "[23,  6000] loss: 0.878\n",
            "[23, 12000] loss: 0.896\n",
            "\n",
            "Test set: Average loss: 0.2333, Accuracy: 6733/10000 (67.33%)\n",
            "\n",
            "[24,  6000] loss: 0.879\n",
            "[24, 12000] loss: 0.893\n",
            "\n",
            "Test set: Average loss: 0.2342, Accuracy: 6693/10000 (66.93%)\n",
            "\n",
            "[25,  6000] loss: 0.874\n",
            "[25, 12000] loss: 0.870\n",
            "\n",
            "Test set: Average loss: 0.2257, Accuracy: 6854/10000 (68.54%)\n",
            "\n",
            "[26,  6000] loss: 0.869\n",
            "[26, 12000] loss: 0.873\n",
            "\n",
            "Test set: Average loss: 0.2301, Accuracy: 6749/10000 (67.49%)\n",
            "\n",
            "[27,  6000] loss: 0.852\n",
            "[27, 12000] loss: 0.868\n",
            "\n",
            "Test set: Average loss: 0.2251, Accuracy: 6844/10000 (68.44%)\n",
            "\n",
            "[28,  6000] loss: 0.862\n",
            "[28, 12000] loss: 0.869\n",
            "\n",
            "Test set: Average loss: 0.2302, Accuracy: 6741/10000 (67.41%)\n",
            "\n",
            "[29,  6000] loss: 0.842\n",
            "[29, 12000] loss: 0.847\n",
            "\n",
            "Test set: Average loss: 0.2218, Accuracy: 6969/10000 (69.69%)\n",
            "\n",
            "[30,  6000] loss: 0.849\n",
            "[30, 12000] loss: 0.846\n",
            "\n",
            "Test set: Average loss: 0.2212, Accuracy: 6932/10000 (69.32%)\n",
            "\n",
            "[31,  6000] loss: 0.833\n",
            "[31, 12000] loss: 0.849\n",
            "\n",
            "Test set: Average loss: 0.2215, Accuracy: 6859/10000 (68.59%)\n",
            "\n",
            "[32,  6000] loss: 0.831\n",
            "[32, 12000] loss: 0.828\n",
            "\n",
            "Test set: Average loss: 0.2201, Accuracy: 6871/10000 (68.71%)\n",
            "\n",
            "[33,  6000] loss: 0.821\n",
            "[33, 12000] loss: 0.844\n",
            "\n",
            "Test set: Average loss: 0.2213, Accuracy: 6916/10000 (69.16%)\n",
            "\n",
            "[34,  6000] loss: 0.823\n",
            "[34, 12000] loss: 0.831\n",
            "\n",
            "Test set: Average loss: 0.2215, Accuracy: 6891/10000 (68.91%)\n",
            "\n",
            "[35,  6000] loss: 0.823\n",
            "[35, 12000] loss: 0.818\n",
            "\n",
            "Test set: Average loss: 0.2208, Accuracy: 6951/10000 (69.51%)\n",
            "\n",
            "[36,  6000] loss: 0.798\n",
            "[36, 12000] loss: 0.831\n",
            "\n",
            "Test set: Average loss: 0.2243, Accuracy: 6838/10000 (68.38%)\n",
            "\n",
            "[37,  6000] loss: 0.821\n",
            "[37, 12000] loss: 0.807\n",
            "\n",
            "Test set: Average loss: 0.2140, Accuracy: 7004/10000 (70.04%)\n",
            "\n",
            "[38,  6000] loss: 0.809\n",
            "[38, 12000] loss: 0.798\n",
            "\n",
            "Test set: Average loss: 0.2164, Accuracy: 7010/10000 (70.10%)\n",
            "\n",
            "[39,  6000] loss: 0.802\n",
            "[39, 12000] loss: 0.812\n",
            "\n",
            "Test set: Average loss: 0.2149, Accuracy: 6970/10000 (69.70%)\n",
            "\n",
            "[40,  6000] loss: 0.791\n",
            "[40, 12000] loss: 0.805\n",
            "\n",
            "Test set: Average loss: 0.2140, Accuracy: 6995/10000 (69.95%)\n",
            "\n",
            "[41,  6000] loss: 0.794\n",
            "[41, 12000] loss: 0.801\n",
            "\n",
            "Test set: Average loss: 0.2192, Accuracy: 6952/10000 (69.52%)\n",
            "\n",
            "[42,  6000] loss: 0.796\n",
            "[42, 12000] loss: 0.788\n",
            "\n",
            "Test set: Average loss: 0.2162, Accuracy: 6986/10000 (69.86%)\n",
            "\n",
            "[43,  6000] loss: 0.795\n",
            "[43, 12000] loss: 0.786\n",
            "\n",
            "Test set: Average loss: 0.2139, Accuracy: 7020/10000 (70.20%)\n",
            "\n",
            "[44,  6000] loss: 0.780\n",
            "[44, 12000] loss: 0.791\n",
            "\n",
            "Test set: Average loss: 0.2087, Accuracy: 7112/10000 (71.12%)\n",
            "\n",
            "[45,  6000] loss: 0.775\n",
            "[45, 12000] loss: 0.799\n",
            "\n",
            "Test set: Average loss: 0.2097, Accuracy: 7016/10000 (70.16%)\n",
            "\n",
            "[46,  6000] loss: 0.784\n",
            "[46, 12000] loss: 0.772\n",
            "\n",
            "Test set: Average loss: 0.2137, Accuracy: 6977/10000 (69.77%)\n",
            "\n",
            "[47,  6000] loss: 0.765\n",
            "[47, 12000] loss: 0.783\n",
            "\n",
            "Test set: Average loss: 0.2119, Accuracy: 7060/10000 (70.60%)\n",
            "\n",
            "[48,  6000] loss: 0.776\n",
            "[48, 12000] loss: 0.777\n",
            "\n",
            "Test set: Average loss: 0.2051, Accuracy: 7086/10000 (70.86%)\n",
            "\n",
            "[49,  6000] loss: 0.765\n",
            "[49, 12000] loss: 0.762\n",
            "\n",
            "Test set: Average loss: 0.2087, Accuracy: 7142/10000 (71.42%)\n",
            "\n",
            "[50,  6000] loss: 0.768\n",
            "[50, 12000] loss: 0.771\n",
            "\n",
            "Test set: Average loss: 0.2107, Accuracy: 7043/10000 (70.43%)\n",
            "\n",
            "[51,  6000] loss: 0.764\n",
            "[51, 12000] loss: 0.762\n",
            "\n",
            "Test set: Average loss: 0.2094, Accuracy: 7113/10000 (71.13%)\n",
            "\n"
          ]
        }
      ],
      "source": [
        "import torch.optim as optim\n",
        "\n",
        "net =  model.Net().to(device)\n",
        "criterion = nn.CrossEntropyLoss().to(device)\n",
        "optimizer = optim.SGD(net.parameters(), lr=0.001, momentum=0.9)\n",
        "\n",
        "EPOCHS = 70\n",
        "\n",
        "for epoch in range(EPOCHS):\n",
        "    train(net, device, trainloader, optimizer, epoch)\n",
        "    \n",
        "    test(net, device, testloader)\n"
      ]
    },
    {
      "cell_type": "code",
      "source": [
        "%matplotlib inline\n",
        "import matplotlib.pyplot as plt\n",
        "\n",
        "fig, axs = plt.subplots(2,1,figsize=(15,10))\n",
        "axs[0].set_xlim([0, 10000])\n",
        "axs[1].set_xlim([0, 10000])\n",
        "\n",
        "axs[0].plot(train_losses, color='red', label='Train Loss')\n",
        "axs[0].plot(test_losses, color='blue', label='Test Loss')\n",
        "axs[0].set_title(\"Test/Validation Loss\")\n",
        "axs[0].legend()\n",
        "\n",
        "axs[1].plot(train_acc[100:], color='red', label='Train Accuracy')\n",
        "axs[1].plot(test_acc, color='blue', label='Test Accuracy')\n",
        "\n",
        "axs[1].set_title(\"Test/Validation Accuracy\")\n",
        "axs[1].legend()"
      ],
      "metadata": {
        "id": "c4mGHkoOTDJ3",
        "outputId": "16bff07f-1613-4f36-e4e5-13a06fcb4785",
        "colab": {
          "base_uri": "https://localhost:8080/",
          "height": 814
        }
      },
      "execution_count": 15,
      "outputs": [
        {
          "output_type": "error",
          "ename": "NameError",
          "evalue": "ignored",
          "traceback": [
            "\u001b[0;31m---------------------------------------------------------------------------\u001b[0m",
            "\u001b[0;31mNameError\u001b[0m                                 Traceback (most recent call last)",
            "\u001b[0;32m<ipython-input-15-d82af7e0f4cd>\u001b[0m in \u001b[0;36m<module>\u001b[0;34m\u001b[0m\n\u001b[1;32m      6\u001b[0m \u001b[0maxs\u001b[0m\u001b[0;34m[\u001b[0m\u001b[0;36m1\u001b[0m\u001b[0;34m]\u001b[0m\u001b[0;34m.\u001b[0m\u001b[0mset_xlim\u001b[0m\u001b[0;34m(\u001b[0m\u001b[0;34m[\u001b[0m\u001b[0;36m0\u001b[0m\u001b[0;34m,\u001b[0m \u001b[0;36m10000\u001b[0m\u001b[0;34m]\u001b[0m\u001b[0;34m)\u001b[0m\u001b[0;34m\u001b[0m\u001b[0;34m\u001b[0m\u001b[0m\n\u001b[1;32m      7\u001b[0m \u001b[0;34m\u001b[0m\u001b[0m\n\u001b[0;32m----> 8\u001b[0;31m \u001b[0maxs\u001b[0m\u001b[0;34m[\u001b[0m\u001b[0;36m0\u001b[0m\u001b[0;34m]\u001b[0m\u001b[0;34m.\u001b[0m\u001b[0mplot\u001b[0m\u001b[0;34m(\u001b[0m\u001b[0mtrain_losses\u001b[0m\u001b[0;34m,\u001b[0m \u001b[0mcolor\u001b[0m\u001b[0;34m=\u001b[0m\u001b[0;34m'red'\u001b[0m\u001b[0;34m,\u001b[0m \u001b[0mlabel\u001b[0m\u001b[0;34m=\u001b[0m\u001b[0;34m'Train Loss'\u001b[0m\u001b[0;34m)\u001b[0m\u001b[0;34m\u001b[0m\u001b[0;34m\u001b[0m\u001b[0m\n\u001b[0m\u001b[1;32m      9\u001b[0m \u001b[0maxs\u001b[0m\u001b[0;34m[\u001b[0m\u001b[0;36m0\u001b[0m\u001b[0;34m]\u001b[0m\u001b[0;34m.\u001b[0m\u001b[0mplot\u001b[0m\u001b[0;34m(\u001b[0m\u001b[0mtest_losses\u001b[0m\u001b[0;34m,\u001b[0m \u001b[0mcolor\u001b[0m\u001b[0;34m=\u001b[0m\u001b[0;34m'blue'\u001b[0m\u001b[0;34m,\u001b[0m \u001b[0mlabel\u001b[0m\u001b[0;34m=\u001b[0m\u001b[0;34m'Test Loss'\u001b[0m\u001b[0;34m)\u001b[0m\u001b[0;34m\u001b[0m\u001b[0;34m\u001b[0m\u001b[0m\n\u001b[1;32m     10\u001b[0m \u001b[0maxs\u001b[0m\u001b[0;34m[\u001b[0m\u001b[0;36m0\u001b[0m\u001b[0;34m]\u001b[0m\u001b[0;34m.\u001b[0m\u001b[0mset_title\u001b[0m\u001b[0;34m(\u001b[0m\u001b[0;34m\"Test/Validation Loss\"\u001b[0m\u001b[0;34m)\u001b[0m\u001b[0;34m\u001b[0m\u001b[0;34m\u001b[0m\u001b[0m\n",
            "\u001b[0;31mNameError\u001b[0m: name 'train_losses' is not defined"
          ]
        },
        {
          "output_type": "display_data",
          "data": {
            "text/plain": [
              "<Figure size 1080x720 with 2 Axes>"
            ],
            "image/png": "[encoded data removed]"
          },
          "metadata": {
            "needs_background": "light"
          }
        }
      ]
    }
  ],
  "metadata": {
    "accelerator": "GPU",
    "colab": {
      "provenance": [],
      "include_colab_link": true
    },
    "gpuClass": "standard",
    "kernelspec": {
      "display_name": "Python 3",
      "name": "python3"
    },
    "language_info": {
      "name": "python"
    },
    "widgets": {
      "application/vnd.jupyter.widget-state+json": {
        "23e13295d5f744a7ab58937a89d2d85a": {
          "model_module": "@jupyter-widgets/controls",
          "model_name": "HBoxModel",
          "model_module_version": "1.5.0",
          "state": {
            "_dom_classes": [],
            "_model_module": "@jupyter-widgets/controls",
            "_model_module_version": "1.5.0",
            "_model_name": "HBoxModel",
            "_view_count": null,
            "_view_module": "@jupyter-widgets/controls",
            "_view_module_version": "1.5.0",
            "_view_name": "HBoxView",
            "box_style": "",
            "children": [
              "IPY_MODEL_8fe1c5d376534ed58b0f3dfa7b79f084",
              "IPY_MODEL_629b4e4a87c24a7fa9e51dfdfb0dfe8f",
              "IPY_MODEL_8ed0b48eb39e4e4095721db24b75f5b0"
            ],
            "layout": "IPY_MODEL_512a3b98308c4fd5a68322b6fef0a1c6"
          }
        },
        "8fe1c5d376534ed58b0f3dfa7b79f084": {
          "model_module": "@jupyter-widgets/controls",
          "model_name": "HTMLModel",
          "model_module_version": "1.5.0",
          "state": {
            "_dom_classes": [],
            "_model_module": "@jupyter-widgets/controls",
            "_model_module_version": "1.5.0",
            "_model_name": "HTMLModel",
            "_view_count": null,
            "_view_module": "@jupyter-widgets/controls",
            "_view_module_version": "1.5.0",
            "_view_name": "HTMLView",
            "description": "",
            "description_tooltip": null,
            "layout": "IPY_MODEL_321e6c8a719b411886a7f747efa9472b",
            "placeholder": "​",
            "style": "IPY_MODEL_ae621772fa944375a50ddd16049274fc",
            "value": "100%"
          }
        },
        "629b4e4a87c24a7fa9e51dfdfb0dfe8f": {
          "model_module": "@jupyter-widgets/controls",
          "model_name": "FloatProgressModel",
          "model_module_version": "1.5.0",
          "state": {
            "_dom_classes": [],
            "_model_module": "@jupyter-widgets/controls",
            "_model_module_version": "1.5.0",
            "_model_name": "FloatProgressModel",
            "_view_count": null,
            "_view_module": "@jupyter-widgets/controls",
            "_view_module_version": "1.5.0",
            "_view_name": "ProgressView",
            "bar_style": "success",
            "description": "",
            "description_tooltip": null,
            "layout": "IPY_MODEL_59081726e01043c2a1c2c2aca7e737dc",
            "max": 170498071,
            "min": 0,
            "orientation": "horizontal",
            "style": "IPY_MODEL_f6b0c65f8a0d499a829156df6fdfc675",
            "value": 170498071
          }
        },
        "8ed0b48eb39e4e4095721db24b75f5b0": {
          "model_module": "@jupyter-widgets/controls",
          "model_name": "HTMLModel",
          "model_module_version": "1.5.0",
          "state": {
            "_dom_classes": [],
            "_model_module": "@jupyter-widgets/controls",
            "_model_module_version": "1.5.0",
            "_model_name": "HTMLModel",
            "_view_count": null,
            "_view_module": "@jupyter-widgets/controls",
            "_view_module_version": "1.5.0",
            "_view_name": "HTMLView",
            "description": "",
            "description_tooltip": null,
            "layout": "IPY_MODEL_79e679bf9d6c49859fdd51c6837bb58d",
            "placeholder": "​",
            "style": "IPY_MODEL_6b8c993e18b648469d4e80a94750e0a1",
            "value": " 170498071/170498071 [00:13&lt;00:00, 14470655.35it/s]"
          }
        },
        "512a3b98308c4fd5a68322b6fef0a1c6": {
          "model_module": "@jupyter-widgets/base",
          "model_name": "LayoutModel",
          "model_module_version": "1.2.0",
          "state": {
            "_model_module": "@jupyter-widgets/base",
            "_model_module_version": "1.2.0",
            "_model_name": "LayoutModel",
            "_view_count": null,
            "_view_module": "@jupyter-widgets/base",
            "_view_module_version": "1.2.0",
            "_view_name": "LayoutView",
            "align_content": null,
            "align_items": null,
            "align_self": null,
            "border": null,
            "bottom": null,
            "display": null,
            "flex": null,
            "flex_flow": null,
            "grid_area": null,
            "grid_auto_columns": null,
            "grid_auto_flow": null,
            "grid_auto_rows": null,
            "grid_column": null,
            "grid_gap": null,
            "grid_row": null,
            "grid_template_areas": null,
            "grid_template_columns": null,
            "grid_template_rows": null,
            "height": null,
            "justify_content": null,
            "justify_items": null,
            "left": null,
            "margin": null,
            "max_height": null,
            "max_width": null,
            "min_height": null,
            "min_width": null,
            "object_fit": null,
            "object_position": null,
            "order": null,
            "overflow": null,
            "overflow_x": null,
            "overflow_y": null,
            "padding": null,
            "right": null,
            "top": null,
            "visibility": null,
            "width": null
          }
        },
        "321e6c8a719b411886a7f747efa9472b": {
          "model_module": "@jupyter-widgets/base",
          "model_name": "LayoutModel",
          "model_module_version": "1.2.0",
          "state": {
            "_model_module": "@jupyter-widgets/base",
            "_model_module_version": "1.2.0",
            "_model_name": "LayoutModel",
            "_view_count": null,
            "_view_module": "@jupyter-widgets/base",
            "_view_module_version": "1.2.0",
            "_view_name": "LayoutView",
            "align_content": null,
            "align_items": null,
            "align_self": null,
            "border": null,
            "bottom": null,
            "display": null,
            "flex": null,
            "flex_flow": null,
            "grid_area": null,
            "grid_auto_columns": null,
            "grid_auto_flow": null,
            "grid_auto_rows": null,
            "grid_column": null,
            "grid_gap": null,
            "grid_row": null,
            "grid_template_areas": null,
            "grid_template_columns": null,
            "grid_template_rows": null,
            "height": null,
            "justify_content": null,
            "justify_items": null,
            "left": null,
            "margin": null,
            "max_height": null,
            "max_width": null,
            "min_height": null,
            "min_width": null,
            "object_fit": null,
            "object_position": null,
            "order": null,
            "overflow": null,
            "overflow_x": null,
            "overflow_y": null,
            "padding": null,
            "right": null,
            "top": null,
            "visibility": null,
            "width": null
          }
        },
        "ae621772fa944375a50ddd16049274fc": {
          "model_module": "@jupyter-widgets/controls",
          "model_name": "DescriptionStyleModel",
          "model_module_version": "1.5.0",
          "state": {
            "_model_module": "@jupyter-widgets/controls",
            "_model_module_version": "1.5.0",
            "_model_name": "DescriptionStyleModel",
            "_view_count": null,
            "_view_module": "@jupyter-widgets/base",
            "_view_module_version": "1.2.0",
            "_view_name": "StyleView",
            "description_width": ""
          }
        },
        "59081726e01043c2a1c2c2aca7e737dc": {
          "model_module": "@jupyter-widgets/base",
          "model_name": "LayoutModel",
          "model_module_version": "1.2.0",
          "state": {
            "_model_module": "@jupyter-widgets/base",
            "_model_module_version": "1.2.0",
            "_model_name": "LayoutModel",
            "_view_count": null,
            "_view_module": "@jupyter-widgets/base",
            "_view_module_version": "1.2.0",
            "_view_name": "LayoutView",
            "align_content": null,
            "align_items": null,
            "align_self": null,
            "border": null,
            "bottom": null,
            "display": null,
            "flex": null,
            "flex_flow": null,
            "grid_area": null,
            "grid_auto_columns": null,
            "grid_auto_flow": null,
            "grid_auto_rows": null,
            "grid_column": null,
            "grid_gap": null,
            "grid_row": null,
            "grid_template_areas": null,
            "grid_template_columns": null,
            "grid_template_rows": null,
            "height": null,
            "justify_content": null,
            "justify_items": null,
            "left": null,
            "margin": null,
            "max_height": null,
            "max_width": null,
            "min_height": null,
            "min_width": null,
            "object_fit": null,
            "object_position": null,
            "order": null,
            "overflow": null,
            "overflow_x": null,
            "overflow_y": null,
            "padding": null,
            "right": null,
            "top": null,
            "visibility": null,
            "width": null
          }
        },
        "f6b0c65f8a0d499a829156df6fdfc675": {
          "model_module": "@jupyter-widgets/controls",
          "model_name": "ProgressStyleModel",
          "model_module_version": "1.5.0",
          "state": {
            "_model_module": "@jupyter-widgets/controls",
            "_model_module_version": "1.5.0",
            "_model_name": "ProgressStyleModel",
            "_view_count": null,
            "_view_module": "@jupyter-widgets/base",
            "_view_module_version": "1.2.0",
            "_view_name": "StyleView",
            "bar_color": null,
            "description_width": ""
          }
        },
        "79e679bf9d6c49859fdd51c6837bb58d": {
          "model_module": "@jupyter-widgets/base",
          "model_name": "LayoutModel",
          "model_module_version": "1.2.0",
          "state": {
            "_model_module": "@jupyter-widgets/base",
            "_model_module_version": "1.2.0",
            "_model_name": "LayoutModel",
            "_view_count": null,
            "_view_module": "@jupyter-widgets/base",
            "_view_module_version": "1.2.0",
            "_view_name": "LayoutView",
            "align_content": null,
            "align_items": null,
            "align_self": null,
            "border": null,
            "bottom": null,
            "display": null,
            "flex": null,
            "flex_flow": null,
            "grid_area": null,
            "grid_auto_columns": null,
            "grid_auto_flow": null,
            "grid_auto_rows": null,
            "grid_column": null,
            "grid_gap": null,
            "grid_row": null,
            "grid_template_areas": null,
            "grid_template_columns": null,
            "grid_template_rows": null,
            "height": null,
            "justify_content": null,
            "justify_items": null,
            "left": null,
            "margin": null,
            "max_height": null,
            "max_width": null,
            "min_height": null,
            "min_width": null,
            "object_fit": null,
            "object_position": null,
            "order": null,
            "overflow": null,
            "overflow_x": null,
            "overflow_y": null,
            "padding": null,
            "right": null,
            "top": null,
            "visibility": null,
            "width": null
          }
        },
        "6b8c993e18b648469d4e80a94750e0a1": {
          "model_module": "@jupyter-widgets/controls",
          "model_name": "DescriptionStyleModel",
          "model_module_version": "1.5.0",
          "state": {
            "_model_module": "@jupyter-widgets/controls",
            "_model_module_version": "1.5.0",
            "_model_name": "DescriptionStyleModel",
            "_view_count": null,
            "_view_module": "@jupyter-widgets/base",
            "_view_module_version": "1.2.0",
            "_view_name": "StyleView",
            "description_width": ""
          }
        }
      }
    }
  },
  "nbformat": 4,
  "nbformat_minor": 0
}