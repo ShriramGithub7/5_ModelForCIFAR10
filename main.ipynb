{
  "cells": [
    {
      "cell_type": "markdown",
      "metadata": {
        "id": "view-in-github",
        "colab_type": "text"
      },
      "source": [
        "<a href=\"https://colab.research.google.com/github/ShriramGithub7/5_ModelForCIFAR10/blob/main/main.ipynb\" target=\"_parent\"><img src=\"https://colab.research.google.com/assets/colab-badge.svg\" alt=\"Open In Colab\"/></a>"
      ]
    },
    {
      "cell_type": "code",
      "execution_count": 1,
      "metadata": {
        "colab": {
          "base_uri": "https://localhost:8080/"
        },
        "id": "Hz_zUR7Xw0L5",
        "outputId": "d09e1840-a056-42a9-d886-0c4035f686a6"
      },
      "outputs": [
        {
          "output_type": "stream",
          "name": "stdout",
          "text": [
            "Mounted at /content/drive\n"
          ]
        }
      ],
      "source": [
        "from google.colab import drive\n",
        "drive.mount('/content/drive', force_remount=True)"
      ]
    },
    {
      "cell_type": "code",
      "execution_count": 2,
      "metadata": {
        "id": "Ce2DesN6yAqe"
      },
      "outputs": [],
      "source": [
        "!cp /content/drive/MyDrive/Colab\\ Notebooks/model.py ."
      ]
    },
    {
      "cell_type": "code",
      "execution_count": 3,
      "metadata": {
        "id": "da8nS2YHyD9b"
      },
      "outputs": [],
      "source": [
        "import model\n",
        "import torch\n",
        "import torchvision\n",
        "from torchvision import datasets, transforms\n",
        "import albumentations as A\n",
        "import numpy as np\n",
        "import torch.nn as nn\n",
        "import torch.nn.functional as F"
      ]
    },
    {
      "cell_type": "code",
      "execution_count": 4,
      "metadata": {
        "id": "CHMAFYYGyG44"
      },
      "outputs": [],
      "source": [
        "net = model.Net()"
      ]
    },
    {
      "cell_type": "code",
      "execution_count": 5,
      "metadata": {
        "colab": {
          "base_uri": "https://localhost:8080/",
          "height": 101,
          "referenced_widgets": [
            "42acfbb597eb4ac1ab7b9f8a129b16ae",
            "787ac7be67194f709415e9f9c0df9267",
            "265e4e8536df4ec783b22d6a8b92f8c1",
            "063b12e0e8424bd1b35f4e007b5cbcb2",
            "08609a588cfb40b1a29ddcaad7fb6c5c",
            "7cf2d2928fb64c2190a850adca5d1a23",
            "51dc342a97204756a38a7af231181fad",
            "6f4fbb98a391451a948cfe35ee9be604",
            "b8b3dd496e3046f89b40eb093a279707",
            "abdb78fdbc544ef7990f7ee3ca19349e",
            "30b2d13318724b868f29d02af670d5f4"
          ]
        },
        "id": "Yta9cs7H9Nu_",
        "outputId": "396a00c2-7683-41d1-8ada-044bd1e8ce72"
      },
      "outputs": [
        {
          "output_type": "stream",
          "name": "stdout",
          "text": [
            "Downloading https://www.cs.toronto.edu/~kriz/cifar-10-python.tar.gz to ./data/cifar-10-python.tar.gz\n"
          ]
        },
        {
          "output_type": "display_data",
          "data": {
            "text/plain": [
              "  0%|          | 0/170498071 [00:00<?, ?it/s]"
            ],
            "application/vnd.jupyter.widget-view+json": {
              "version_major": 2,
              "version_minor": 0,
              "model_id": "42acfbb597eb4ac1ab7b9f8a129b16ae"
            }
          },
          "metadata": {}
        },
        {
          "output_type": "stream",
          "name": "stdout",
          "text": [
            "Extracting ./data/cifar-10-python.tar.gz to ./data\n",
            "Files already downloaded and verified\n"
          ]
        }
      ],
      "source": [
        "import torch\n",
        "import torchvision\n",
        "from torchvision import datasets, transforms\n",
        "import albumentations as A\n",
        "import numpy as np\n",
        "\n",
        "mean=(0.4914, 0.4822, 0.4465)\n",
        "std=(0.2023, 0.1994, 0.2010)\n",
        "\n",
        "def albumentations_transform(image):\n",
        "    image = np.array(image)\n",
        "    augmented = A.Compose(\n",
        "                [A.HorizontalFlip(),\n",
        "                A.ShiftScaleRotate(shift_limit=0.0625, scale_limit=0.1,rotate_limit=45),\n",
        "                A.CoarseDropout(max_holes=1, max_height=16, max_width=16, min_holes=1,min_height=16, min_width=16,\n",
        "                           fill_value=np.mean(mean), mask_fill_value=None),\n",
        "        ])(image=image)[\"image\"]\n",
        "    return transforms.ToTensor()(augmented)\n",
        "\n",
        "transform = transforms.Compose([\n",
        "    transforms.Lambda(albumentations_transform),\n",
        "    transforms.Normalize(mean, std),\n",
        "])\n",
        "\n",
        "trainset = torchvision.datasets.CIFAR10(root='./data', train=True,\n",
        "                                        download=True, transform=transform)\n",
        "\n",
        "batch_size = 4\n",
        "\n",
        "trainloader = torch.utils.data.DataLoader(trainset, batch_size=batch_size,\n",
        "shuffle=True, num_workers=2)\n",
        "\n",
        "testset = torchvision.datasets.CIFAR10(root='./data', train=False, \n",
        "                                       download=True, transform=transform)\n",
        "\n",
        "testloader = torch.utils.data.DataLoader(testset, batch_size=batch_size,\n",
        "shuffle=False, num_workers=2)\n",
        "\n",
        "classes = ('plane', 'car', 'bird', 'cat', 'deer', 'dog','frog', 'horse', 'ship', 'truck')"
      ]
    },
    {
      "cell_type": "code",
      "execution_count": 6,
      "metadata": {
        "colab": {
          "base_uri": "https://localhost:8080/",
          "height": 190
        },
        "id": "Dg7Dj_Di90M2",
        "outputId": "d8f5a0b5-d524-4b4f-fc96-88ec3ad3691f"
      },
      "outputs": [
        {
          "output_type": "stream",
          "name": "stderr",
          "text": [
            "WARNING:matplotlib.image:Clipping input data to the valid range for imshow with RGB data ([0..1] for floats or [0..255] for integers).\n"
          ]
        },
        {
          "output_type": "stream",
          "name": "stdout",
          "text": [
            "  car  bird  deer  bird\n"
          ]
        },
        {
          "output_type": "execute_result",
          "data": {
            "text/plain": [
              "torch.Size([4, 3, 32, 32])"
            ]
          },
          "metadata": {},
          "execution_count": 6
        },
        {
          "output_type": "display_data",
          "data": {
            "text/plain": [
              "<Figure size 432x288 with 1 Axes>"
            ],
            "image/png": "[encoded data removed]"
          },
          "metadata": {
            "needs_background": "light"
          }
        }
      ],
      "source": [
        "import matplotlib.pyplot as plt\n",
        "%matplotlib inline\n",
        "import numpy as np\n",
        "\n",
        "def show(img):\n",
        "  img = img/2 + 0.5\n",
        "  npimg= img.numpy()\n",
        "  plt.imshow(np.transpose(npimg, (1, 2, 0)))\n",
        "\n",
        "dataiter = iter(trainloader)\n",
        "images, labels= next(dataiter)\n",
        "\n",
        "\n",
        "show(torchvision.utils.make_grid(images, normalize=False))\n",
        "\n",
        "print(' '.join('%5s' % classes[labels[j]] for j in range (4)))\n",
        "\n",
        "images.shape"
      ]
    },
    {
      "cell_type": "code",
      "execution_count": 7,
      "metadata": {
        "id": "xN02RwVc93SI"
      },
      "outputs": [],
      "source": [
        "use_cuda = torch.cuda.is_available()\n",
        "device = torch.device(\"cuda\" if use_cuda else \"cpu\")"
      ]
    },
    {
      "cell_type": "code",
      "execution_count": 8,
      "metadata": {
        "colab": {
          "base_uri": "https://localhost:8080/"
        },
        "id": "JM7Q7uWJ96sv",
        "outputId": "3af97a88-fd92-4033-b94c-4b3375649622"
      },
      "outputs": [
        {
          "output_type": "stream",
          "name": "stdout",
          "text": [
            "Looking in indexes: https://pypi.org/simple, https://us-python.pkg.dev/colab-wheels/public/simple/\n",
            "Requirement already satisfied: torchsummary in /usr/local/lib/python3.8/dist-packages (1.5.1)\n",
            "----------------------------------------------------------------\n",
            "        Layer (type)               Output Shape         Param #\n",
            "================================================================\n",
            "            Conv2d-1           [-1, 16, 32, 32]             448\n",
            "       BatchNorm2d-2           [-1, 16, 32, 32]              32\n",
            "              ReLU-3           [-1, 16, 32, 32]               0\n",
            "           Dropout-4           [-1, 16, 32, 32]               0\n",
            "            Conv2d-5           [-1, 32, 32, 32]           4,640\n",
            "       BatchNorm2d-6           [-1, 32, 32, 32]              64\n",
            "              ReLU-7           [-1, 32, 32, 32]               0\n",
            "           Dropout-8           [-1, 32, 32, 32]               0\n",
            "            Conv2d-9           [-1, 64, 15, 15]          18,496\n",
            "      BatchNorm2d-10           [-1, 64, 15, 15]             128\n",
            "             ReLU-11           [-1, 64, 15, 15]               0\n",
            "          Dropout-12           [-1, 64, 15, 15]               0\n",
            "           Conv2d-13            [-1, 128, 8, 8]          73,856\n",
            "      BatchNorm2d-14            [-1, 128, 8, 8]             256\n",
            "             ReLU-15            [-1, 128, 8, 8]               0\n",
            "          Dropout-16            [-1, 128, 8, 8]               0\n",
            "           Conv2d-17             [-1, 64, 4, 4]          73,792\n",
            "      BatchNorm2d-18             [-1, 64, 4, 4]             128\n",
            "             ReLU-19             [-1, 64, 4, 4]               0\n",
            "          Dropout-20             [-1, 64, 4, 4]               0\n",
            "           Conv2d-21             [-1, 16, 4, 4]           9,232\n",
            "      BatchNorm2d-22             [-1, 16, 4, 4]              32\n",
            "             ReLU-23             [-1, 16, 4, 4]               0\n",
            "          Dropout-24             [-1, 16, 4, 4]               0\n",
            "           Conv2d-25             [-1, 32, 4, 4]           4,640\n",
            "      BatchNorm2d-26             [-1, 32, 4, 4]              64\n",
            "             ReLU-27             [-1, 32, 4, 4]               0\n",
            "          Dropout-28             [-1, 32, 4, 4]               0\n",
            "        AvgPool2d-29             [-1, 32, 2, 2]               0\n",
            "           Linear-30                   [-1, 64]           8,256\n",
            "           Linear-31                   [-1, 10]             650\n",
            "================================================================\n",
            "Total params: 194,714\n",
            "Trainable params: 194,714\n",
            "Non-trainable params: 0\n",
            "----------------------------------------------------------------\n",
            "Input size (MB): 0.01\n",
            "Forward/backward pass size (MB): 2.25\n",
            "Params size (MB): 0.74\n",
            "Estimated Total Size (MB): 3.00\n",
            "----------------------------------------------------------------\n"
          ]
        }
      ],
      "source": [
        "!pip install torchsummary\n",
        "from torchsummary import summary\n",
        "\n",
        "net = model.Net().to(device)\n",
        "summary(net, input_size=(3, 32, 32))"
      ]
    },
    {
      "cell_type": "code",
      "execution_count": 9,
      "metadata": {
        "id": "2zq7lcJm-EjU"
      },
      "outputs": [],
      "source": [
        "import torch.optim as optim\n",
        "\n",
        "criterion = nn.CrossEntropyLoss().to(device)\n",
        "optimizer = optim.SGD(net.parameters(), lr=0.001, momentum=0.9)"
      ]
    },
    {
      "cell_type": "code",
      "execution_count": 10,
      "metadata": {
        "id": "hYKuC9FYOTZI"
      },
      "outputs": [],
      "source": [
        "from tqdm import tqdm\n",
        "import matplotlib.pyplot as plt\n",
        "import numpy\n",
        "\n",
        "train_losses = []\n",
        "test_losses = []\n",
        "train_acc = []\n",
        "test_acc = []\n",
        "\n",
        "def train(model, device, trainloader, optimizer, epoch):\n",
        "  #model.train()\n",
        "  trainloader = trainloader\n",
        "  correct = 0\n",
        "  processed = 0\n",
        "  running_loss = 0.0\n",
        "  for batch_idx, data in enumerate(trainloader, 0):\n",
        "    \n",
        "    # get samples\n",
        "    inputs, labels = data\n",
        "    inputs, labels = inputs.to(device), labels.to(device)\n",
        "\n",
        "\n",
        "    # zero the parameter gradients\n",
        "    optimizer.zero_grad()\n",
        "\n",
        "    # forward + backward + optimize\n",
        "    outputs = net(inputs).to(device)\n",
        "    loss = criterion(outputs, labels)\n",
        "\n",
        "    loss.backward()\n",
        "    optimizer.step()\n",
        "\n",
        "    pred = outputs.argmax(dim=1, keepdim=True)  \n",
        "    correct += pred.eq(labels.view_as(pred)).sum().item()\n",
        "    processed += len(data)\n",
        "\n",
        "    running_loss += loss.item()\n",
        "\n",
        "    if batch_idx % 6000 == 5999:    # print every 2000 mini-batches\n",
        "            print('[%d, %5d] loss: %.3f' %\n",
        "                  (epoch + 1, batch_idx + 1, running_loss / 6000))\n",
        "            running_loss = 0.0\n",
        "\n",
        "\n",
        " \n",
        "def test(model, device, testloader):\n",
        "    test_loss = 0\n",
        "    correct = 0\n",
        "       \n",
        "    with torch.no_grad():\n",
        "        for data, labels in testloader:\n",
        "            data, labels = data.to(device), labels.to(device)\n",
        "            output = net(data)\n",
        "            test_loss += criterion(output, labels).item()  # sum up batch loss\n",
        "            pred = output.argmax(dim=1, keepdim=True)  # get the index of the max log-probability\n",
        "            correct += pred.eq(labels.view_as(pred)).sum().item()\n",
        "         \n",
        "            \n",
        "\n",
        "    test_loss /= len(testloader.dataset)\n",
        "    test_losses.append(test_loss)\n",
        "\n",
        "    print('\\nTest set: Average loss: {:.4f}, Accuracy: {}/{} ({:.2f}%)\\n'.format(\n",
        "          test_loss, correct, len(testloader.dataset),\n",
        "          100. * correct / len(testloader.dataset)))\n",
        "      \n",
        "    test_acc.append(100. * correct / len(testloader.dataset))\n",
        "  \n",
        "  "
      ]
    },
    {
      "cell_type": "code",
      "execution_count": null,
      "metadata": {
        "id": "JhuuN-sECvyD",
        "outputId": "82500d18-55bc-4686-ffcd-23cc27df8571",
        "colab": {
          "base_uri": "https://localhost:8080/"
        }
      },
      "outputs": [
        {
          "output_type": "stream",
          "name": "stdout",
          "text": [
            "[1,  6000] loss: 1.886\n",
            "[1, 12000] loss: 1.644\n",
            "\n",
            "Test set: Average loss: 0.3919, Accuracy: 4290/10000 (42.90%)\n",
            "\n",
            "[2,  6000] loss: 1.522\n",
            "[2, 12000] loss: 1.444\n",
            "\n",
            "Test set: Average loss: 0.3421, Accuracy: 5100/10000 (51.00%)\n",
            "\n",
            "[3,  6000] loss: 1.359\n",
            "[3, 12000] loss: 1.324\n",
            "\n",
            "Test set: Average loss: 0.3197, Accuracy: 5350/10000 (53.50%)\n",
            "\n",
            "[4,  6000] loss: 1.261\n",
            "[4, 12000] loss: 1.239\n",
            "\n",
            "Test set: Average loss: 0.3043, Accuracy: 5643/10000 (56.43%)\n",
            "\n",
            "[5,  6000] loss: 1.198\n",
            "[5, 12000] loss: 1.187\n",
            "\n",
            "Test set: Average loss: 0.2963, Accuracy: 5796/10000 (57.96%)\n",
            "\n",
            "[6,  6000] loss: 1.149\n",
            "[6, 12000] loss: 1.130\n",
            "\n",
            "Test set: Average loss: 0.2784, Accuracy: 6073/10000 (60.73%)\n",
            "\n",
            "[7,  6000] loss: 1.120\n",
            "[7, 12000] loss: 1.105\n",
            "\n",
            "Test set: Average loss: 0.2698, Accuracy: 6193/10000 (61.93%)\n",
            "\n",
            "[8,  6000] loss: 1.095\n",
            "[8, 12000] loss: 1.068\n",
            "\n",
            "Test set: Average loss: 0.2783, Accuracy: 6087/10000 (60.87%)\n",
            "\n",
            "[9,  6000] loss: 1.050\n",
            "[9, 12000] loss: 1.052\n",
            "\n",
            "Test set: Average loss: 0.2689, Accuracy: 6229/10000 (62.29%)\n",
            "\n",
            "[10,  6000] loss: 1.035\n",
            "[10, 12000] loss: 1.029\n",
            "\n",
            "Test set: Average loss: 0.2544, Accuracy: 6377/10000 (63.77%)\n",
            "\n",
            "[11,  6000] loss: 1.017\n",
            "[11, 12000] loss: 1.012\n",
            "\n",
            "Test set: Average loss: 0.2547, Accuracy: 6408/10000 (64.08%)\n",
            "\n",
            "[12,  6000] loss: 0.994\n",
            "[12, 12000] loss: 0.987\n",
            "\n",
            "Test set: Average loss: 0.2527, Accuracy: 6475/10000 (64.75%)\n",
            "\n",
            "[13,  6000] loss: 0.985\n",
            "[13, 12000] loss: 0.981\n",
            "\n",
            "Test set: Average loss: 0.2474, Accuracy: 6484/10000 (64.84%)\n",
            "\n",
            "[14,  6000] loss: 0.965\n",
            "[14, 12000] loss: 0.968\n",
            "\n",
            "Test set: Average loss: 0.2504, Accuracy: 6487/10000 (64.87%)\n",
            "\n",
            "[15,  6000] loss: 0.956\n",
            "[15, 12000] loss: 0.946\n",
            "\n",
            "Test set: Average loss: 0.2446, Accuracy: 6589/10000 (65.89%)\n",
            "\n",
            "[16,  6000] loss: 0.939\n",
            "[16, 12000] loss: 0.936\n",
            "\n",
            "Test set: Average loss: 0.2399, Accuracy: 6592/10000 (65.92%)\n",
            "\n",
            "[17,  6000] loss: 0.920\n",
            "[17, 12000] loss: 0.933\n",
            "\n",
            "Test set: Average loss: 0.2395, Accuracy: 6629/10000 (66.29%)\n",
            "\n",
            "[18,  6000] loss: 0.922\n",
            "[18, 12000] loss: 0.920\n",
            "\n",
            "Test set: Average loss: 0.2353, Accuracy: 6678/10000 (66.78%)\n",
            "\n",
            "[19,  6000] loss: 0.911\n",
            "[19, 12000] loss: 0.919\n",
            "\n",
            "Test set: Average loss: 0.2385, Accuracy: 6727/10000 (67.27%)\n",
            "\n",
            "[20,  6000] loss: 0.907\n",
            "[20, 12000] loss: 0.908\n",
            "\n",
            "Test set: Average loss: 0.2332, Accuracy: 6724/10000 (67.24%)\n",
            "\n",
            "[21,  6000] loss: 0.894\n",
            "[21, 12000] loss: 0.887\n",
            "\n",
            "Test set: Average loss: 0.2311, Accuracy: 6808/10000 (68.08%)\n",
            "\n",
            "[22,  6000] loss: 0.890\n",
            "[22, 12000] loss: 0.890\n",
            "\n",
            "Test set: Average loss: 0.2399, Accuracy: 6699/10000 (66.99%)\n",
            "\n",
            "[23,  6000] loss: 0.875\n",
            "[23, 12000] loss: 0.874\n",
            "\n",
            "Test set: Average loss: 0.2306, Accuracy: 6764/10000 (67.64%)\n",
            "\n",
            "[24,  6000] loss: 0.871\n",
            "[24, 12000] loss: 0.875\n",
            "\n",
            "Test set: Average loss: 0.2263, Accuracy: 6860/10000 (68.60%)\n",
            "\n",
            "[25,  6000] loss: 0.864\n",
            "[25, 12000] loss: 0.873\n",
            "\n",
            "Test set: Average loss: 0.2291, Accuracy: 6790/10000 (67.90%)\n",
            "\n",
            "[26,  6000] loss: 0.865\n",
            "[26, 12000] loss: 0.854\n",
            "\n",
            "Test set: Average loss: 0.2270, Accuracy: 6869/10000 (68.69%)\n",
            "\n"
          ]
        }
      ],
      "source": [
        "import torch.optim as optim\n",
        "\n",
        "net =  model.Net().to(device)\n",
        "criterion = nn.CrossEntropyLoss().to(device)\n",
        "optimizer = optim.SGD(net.parameters(), lr=0.001, momentum=0.9)\n",
        "\n",
        "EPOCHS = 51\n",
        "\n",
        "for epoch in range(EPOCHS):\n",
        "    train(net, device, trainloader, optimizer, epoch)\n",
        "    \n",
        "    test(net, device, testloader)\n"
      ]
    }
  ],
  "metadata": {
    "accelerator": "GPU",
    "colab": {
      "provenance": [],
      "authorship_tag": "ABX9TyOJkvqeILEvnM3rdNf43E39",
      "include_colab_link": true
    },
    "gpuClass": "standard",
    "kernelspec": {
      "display_name": "Python 3",
      "name": "python3"
    },
    "language_info": {
      "name": "python"
    },
    "widgets": {
      "application/vnd.jupyter.widget-state+json": {
        "42acfbb597eb4ac1ab7b9f8a129b16ae": {
          "model_module": "@jupyter-widgets/controls",
          "model_name": "HBoxModel",
          "model_module_version": "1.5.0",
          "state": {
            "_dom_classes": [],
            "_model_module": "@jupyter-widgets/controls",
            "_model_module_version": "1.5.0",
            "_model_name": "HBoxModel",
            "_view_count": null,
            "_view_module": "@jupyter-widgets/controls",
            "_view_module_version": "1.5.0",
            "_view_name": "HBoxView",
            "box_style": "",
            "children": [
              "IPY_MODEL_787ac7be67194f709415e9f9c0df9267",
              "IPY_MODEL_265e4e8536df4ec783b22d6a8b92f8c1",
              "IPY_MODEL_063b12e0e8424bd1b35f4e007b5cbcb2"
            ],
            "layout": "IPY_MODEL_08609a588cfb40b1a29ddcaad7fb6c5c"
          }
        },
        "787ac7be67194f709415e9f9c0df9267": {
          "model_module": "@jupyter-widgets/controls",
          "model_name": "HTMLModel",
          "model_module_version": "1.5.0",
          "state": {
            "_dom_classes": [],
            "_model_module": "@jupyter-widgets/controls",
            "_model_module_version": "1.5.0",
            "_model_name": "HTMLModel",
            "_view_count": null,
            "_view_module": "@jupyter-widgets/controls",
            "_view_module_version": "1.5.0",
            "_view_name": "HTMLView",
            "description": "",
            "description_tooltip": null,
            "layout": "IPY_MODEL_7cf2d2928fb64c2190a850adca5d1a23",
            "placeholder": "​",
            "style": "IPY_MODEL_51dc342a97204756a38a7af231181fad",
            "value": "100%"
          }
        },
        "265e4e8536df4ec783b22d6a8b92f8c1": {
          "model_module": "@jupyter-widgets/controls",
          "model_name": "FloatProgressModel",
          "model_module_version": "1.5.0",
          "state": {
            "_dom_classes": [],
            "_model_module": "@jupyter-widgets/controls",
            "_model_module_version": "1.5.0",
            "_model_name": "FloatProgressModel",
            "_view_count": null,
            "_view_module": "@jupyter-widgets/controls",
            "_view_module_version": "1.5.0",
            "_view_name": "ProgressView",
            "bar_style": "success",
            "description": "",
            "description_tooltip": null,
            "layout": "IPY_MODEL_6f4fbb98a391451a948cfe35ee9be604",
            "max": 170498071,
            "min": 0,
            "orientation": "horizontal",
            "style": "IPY_MODEL_b8b3dd496e3046f89b40eb093a279707",
            "value": 170498071
          }
        },
        "063b12e0e8424bd1b35f4e007b5cbcb2": {
          "model_module": "@jupyter-widgets/controls",
          "model_name": "HTMLModel",
          "model_module_version": "1.5.0",
          "state": {
            "_dom_classes": [],
            "_model_module": "@jupyter-widgets/controls",
            "_model_module_version": "1.5.0",
            "_model_name": "HTMLModel",
            "_view_count": null,
            "_view_module": "@jupyter-widgets/controls",
            "_view_module_version": "1.5.0",
            "_view_name": "HTMLView",
            "description": "",
            "description_tooltip": null,
            "layout": "IPY_MODEL_abdb78fdbc544ef7990f7ee3ca19349e",
            "placeholder": "​",
            "style": "IPY_MODEL_30b2d13318724b868f29d02af670d5f4",
            "value": " 170498071/170498071 [00:01&lt;00:00, 108114308.93it/s]"
          }
        },
        "08609a588cfb40b1a29ddcaad7fb6c5c": {
          "model_module": "@jupyter-widgets/base",
          "model_name": "LayoutModel",
          "model_module_version": "1.2.0",
          "state": {
            "_model_module": "@jupyter-widgets/base",
            "_model_module_version": "1.2.0",
            "_model_name": "LayoutModel",
            "_view_count": null,
            "_view_module": "@jupyter-widgets/base",
            "_view_module_version": "1.2.0",
            "_view_name": "LayoutView",
            "align_content": null,
            "align_items": null,
            "align_self": null,
            "border": null,
            "bottom": null,
            "display": null,
            "flex": null,
            "flex_flow": null,
            "grid_area": null,
            "grid_auto_columns": null,
            "grid_auto_flow": null,
            "grid_auto_rows": null,
            "grid_column": null,
            "grid_gap": null,
            "grid_row": null,
            "grid_template_areas": null,
            "grid_template_columns": null,
            "grid_template_rows": null,
            "height": null,
            "justify_content": null,
            "justify_items": null,
            "left": null,
            "margin": null,
            "max_height": null,
            "max_width": null,
            "min_height": null,
            "min_width": null,
            "object_fit": null,
            "object_position": null,
            "order": null,
            "overflow": null,
            "overflow_x": null,
            "overflow_y": null,
            "padding": null,
            "right": null,
            "top": null,
            "visibility": null,
            "width": null
          }
        },
        "7cf2d2928fb64c2190a850adca5d1a23": {
          "model_module": "@jupyter-widgets/base",
          "model_name": "LayoutModel",
          "model_module_version": "1.2.0",
          "state": {
            "_model_module": "@jupyter-widgets/base",
            "_model_module_version": "1.2.0",
            "_model_name": "LayoutModel",
            "_view_count": null,
            "_view_module": "@jupyter-widgets/base",
            "_view_module_version": "1.2.0",
            "_view_name": "LayoutView",
            "align_content": null,
            "align_items": null,
            "align_self": null,
            "border": null,
            "bottom": null,
            "display": null,
            "flex": null,
            "flex_flow": null,
            "grid_area": null,
            "grid_auto_columns": null,
            "grid_auto_flow": null,
            "grid_auto_rows": null,
            "grid_column": null,
            "grid_gap": null,
            "grid_row": null,
            "grid_template_areas": null,
            "grid_template_columns": null,
            "grid_template_rows": null,
            "height": null,
            "justify_content": null,
            "justify_items": null,
            "left": null,
            "margin": null,
            "max_height": null,
            "max_width": null,
            "min_height": null,
            "min_width": null,
            "object_fit": null,
            "object_position": null,
            "order": null,
            "overflow": null,
            "overflow_x": null,
            "overflow_y": null,
            "padding": null,
            "right": null,
            "top": null,
            "visibility": null,
            "width": null
          }
        },
        "51dc342a97204756a38a7af231181fad": {
          "model_module": "@jupyter-widgets/controls",
          "model_name": "DescriptionStyleModel",
          "model_module_version": "1.5.0",
          "state": {
            "_model_module": "@jupyter-widgets/controls",
            "_model_module_version": "1.5.0",
            "_model_name": "DescriptionStyleModel",
            "_view_count": null,
            "_view_module": "@jupyter-widgets/base",
            "_view_module_version": "1.2.0",
            "_view_name": "StyleView",
            "description_width": ""
          }
        },
        "6f4fbb98a391451a948cfe35ee9be604": {
          "model_module": "@jupyter-widgets/base",
          "model_name": "LayoutModel",
          "model_module_version": "1.2.0",
          "state": {
            "_model_module": "@jupyter-widgets/base",
            "_model_module_version": "1.2.0",
            "_model_name": "LayoutModel",
            "_view_count": null,
            "_view_module": "@jupyter-widgets/base",
            "_view_module_version": "1.2.0",
            "_view_name": "LayoutView",
            "align_content": null,
            "align_items": null,
            "align_self": null,
            "border": null,
            "bottom": null,
            "display": null,
            "flex": null,
            "flex_flow": null,
            "grid_area": null,
            "grid_auto_columns": null,
            "grid_auto_flow": null,
            "grid_auto_rows": null,
            "grid_column": null,
            "grid_gap": null,
            "grid_row": null,
            "grid_template_areas": null,
            "grid_template_columns": null,
            "grid_template_rows": null,
            "height": null,
            "justify_content": null,
            "justify_items": null,
            "left": null,
            "margin": null,
            "max_height": null,
            "max_width": null,
            "min_height": null,
            "min_width": null,
            "object_fit": null,
            "object_position": null,
            "order": null,
            "overflow": null,
            "overflow_x": null,
            "overflow_y": null,
            "padding": null,
            "right": null,
            "top": null,
            "visibility": null,
            "width": null
          }
        },
        "b8b3dd496e3046f89b40eb093a279707": {
          "model_module": "@jupyter-widgets/controls",
          "model_name": "ProgressStyleModel",
          "model_module_version": "1.5.0",
          "state": {
            "_model_module": "@jupyter-widgets/controls",
            "_model_module_version": "1.5.0",
            "_model_name": "ProgressStyleModel",
            "_view_count": null,
            "_view_module": "@jupyter-widgets/base",
            "_view_module_version": "1.2.0",
            "_view_name": "StyleView",
            "bar_color": null,
            "description_width": ""
          }
        },
        "abdb78fdbc544ef7990f7ee3ca19349e": {
          "model_module": "@jupyter-widgets/base",
          "model_name": "LayoutModel",
          "model_module_version": "1.2.0",
          "state": {
            "_model_module": "@jupyter-widgets/base",
            "_model_module_version": "1.2.0",
            "_model_name": "LayoutModel",
            "_view_count": null,
            "_view_module": "@jupyter-widgets/base",
            "_view_module_version": "1.2.0",
            "_view_name": "LayoutView",
            "align_content": null,
            "align_items": null,
            "align_self": null,
            "border": null,
            "bottom": null,
            "display": null,
            "flex": null,
            "flex_flow": null,
            "grid_area": null,
            "grid_auto_columns": null,
            "grid_auto_flow": null,
            "grid_auto_rows": null,
            "grid_column": null,
            "grid_gap": null,
            "grid_row": null,
            "grid_template_areas": null,
            "grid_template_columns": null,
            "grid_template_rows": null,
            "height": null,
            "justify_content": null,
            "justify_items": null,
            "left": null,
            "margin": null,
            "max_height": null,
            "max_width": null,
            "min_height": null,
            "min_width": null,
            "object_fit": null,
            "object_position": null,
            "order": null,
            "overflow": null,
            "overflow_x": null,
            "overflow_y": null,
            "padding": null,
            "right": null,
            "top": null,
            "visibility": null,
            "width": null
          }
        },
        "30b2d13318724b868f29d02af670d5f4": {
          "model_module": "@jupyter-widgets/controls",
          "model_name": "DescriptionStyleModel",
          "model_module_version": "1.5.0",
          "state": {
            "_model_module": "@jupyter-widgets/controls",
            "_model_module_version": "1.5.0",
            "_model_name": "DescriptionStyleModel",
            "_view_count": null,
            "_view_module": "@jupyter-widgets/base",
            "_view_module_version": "1.2.0",
            "_view_name": "StyleView",
            "description_width": ""
          }
        }
      }
    }
  },
  "nbformat": 4,
  "nbformat_minor": 0
}