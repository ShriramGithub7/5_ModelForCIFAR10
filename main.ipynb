{
  "cells": [
    {
      "cell_type": "markdown",
      "source": [
        "# Mount model.py from drive and import required libraries"
      ],
      "metadata": {
        "id": "sne5W3FwRTjh"
      }
    },
    {
      "cell_type": "code",
      "execution_count": 1,
      "metadata": {
        "colab": {
          "base_uri": "https://localhost:8080/"
        },
        "id": "Hz_zUR7Xw0L5",
        "outputId": "277d5001-c255-4379-9885-63a624e3bb43"
      },
      "outputs": [
        {
          "output_type": "stream",
          "name": "stdout",
          "text": [
            "Mounted at /content/drive\n"
          ]
        }
      ],
      "source": [
        "from google.colab import drive\n",
        "drive.mount('/content/drive', force_remount=True)"
      ]
    },
    {
      "cell_type": "code",
      "execution_count": 2,
      "metadata": {
        "id": "Ce2DesN6yAqe"
      },
      "outputs": [],
      "source": [
        "!cp /content/drive/MyDrive/Colab\\ Notebooks/model.py ."
      ]
    },
    {
      "cell_type": "code",
      "execution_count": 3,
      "metadata": {
        "id": "da8nS2YHyD9b"
      },
      "outputs": [],
      "source": [
        "import model\n",
        "import torch\n",
        "import torchvision\n",
        "from torchvision import datasets, transforms\n",
        "import albumentations as A\n",
        "import numpy as np\n",
        "import torch.nn as nn\n",
        "import torch.nn.functional as F"
      ]
    },
    {
      "cell_type": "code",
      "execution_count": 4,
      "metadata": {
        "id": "CHMAFYYGyG44"
      },
      "outputs": [],
      "source": [
        "net = model.Net()"
      ]
    },
    {
      "cell_type": "markdown",
      "source": [
        "# Apply Albumentation and transformation on dataset"
      ],
      "metadata": {
        "id": "mMQ3QL-jRl3T"
      }
    },
    {
      "cell_type": "code",
      "execution_count": 5,
      "metadata": {
        "colab": {
          "base_uri": "https://localhost:8080/",
          "height": 101,
          "referenced_widgets": [
            "0f8918df12514ec5a70914d79f8e27a9",
            "739123e42c684accb824c75c059aa625",
            "02b84b915f94420eb13e46b500067749",
            "70193a263ea2411fbba5a0ab59acf84d",
            "ee8a19a0c27d4898b984c75aa81bc07f",
            "84f9f0c9f36c4cb1ad65df43f44c0fdb",
            "c6e00b77f71d445ab6f5f014757f76b3",
            "2737648618f94d008a74f30f67d2427d",
            "89cf7079f58e489297c1910401b7a8e0",
            "234aaabdcd0a46398136d560a713ca3d",
            "e995561ea73d4c3bb8ec1e96c5d36f17"
          ]
        },
        "id": "Yta9cs7H9Nu_",
        "outputId": "317a88b7-f241-49c1-afe1-2da7d2395d4f"
      },
      "outputs": [
        {
          "output_type": "stream",
          "name": "stdout",
          "text": [
            "Downloading https://www.cs.toronto.edu/~kriz/cifar-10-python.tar.gz to ./data/cifar-10-python.tar.gz\n"
          ]
        },
        {
          "output_type": "display_data",
          "data": {
            "text/plain": [
              "  0%|          | 0/170498071 [00:00<?, ?it/s]"
            ],
            "application/vnd.jupyter.widget-view+json": {
              "version_major": 2,
              "version_minor": 0,
              "model_id": "0f8918df12514ec5a70914d79f8e27a9"
            }
          },
          "metadata": {}
        },
        {
          "output_type": "stream",
          "name": "stdout",
          "text": [
            "Extracting ./data/cifar-10-python.tar.gz to ./data\n",
            "Files already downloaded and verified\n"
          ]
        }
      ],
      "source": [
        "mean=(0.4914, 0.4822, 0.4465)\n",
        "std=(0.2023, 0.1994, 0.2010)\n",
        "\n",
        "def albumentations_transform(image):\n",
        "    image = np.array(image)\n",
        "    augmented = A.Compose(\n",
        "                [A.HorizontalFlip(),\n",
        "                A.ShiftScaleRotate(shift_limit=0.0625, scale_limit=0.1,rotate_limit=45),\n",
        "                A.CoarseDropout(max_holes=1, max_height=16, max_width=16, min_holes=1,min_height=16, min_width=16,\n",
        "                           fill_value=np.mean(mean), mask_fill_value=None),\n",
        "        ])(image=image)[\"image\"]\n",
        "    return transforms.ToTensor()(augmented)\n",
        "\n",
        "transform = transforms.Compose([\n",
        "    transforms.Lambda(albumentations_transform),\n",
        "    transforms.Normalize(mean, std),\n",
        "])\n",
        "\n",
        "trainset = torchvision.datasets.CIFAR10(root='./data', train=True,\n",
        "                                        download=True, transform=transform)\n",
        "\n",
        "batch_size = 4\n",
        "\n",
        "trainloader = torch.utils.data.DataLoader(trainset, batch_size=batch_size,\n",
        "shuffle=True, num_workers=2)\n",
        "\n",
        "testset = torchvision.datasets.CIFAR10(root='./data', train=False, \n",
        "                                       download=True, transform=transform)\n",
        "\n",
        "testloader = torch.utils.data.DataLoader(testset, batch_size=batch_size,\n",
        "shuffle=False, num_workers=2)\n",
        "\n",
        "classes = ('plane', 'car', 'bird', 'cat', 'deer', 'dog','frog', 'horse', 'ship', 'truck')"
      ]
    },
    {
      "cell_type": "markdown",
      "source": [
        "# View few images from the batch"
      ],
      "metadata": {
        "id": "GuWtViVtRuXk"
      }
    },
    {
      "cell_type": "code",
      "execution_count": 6,
      "metadata": {
        "colab": {
          "base_uri": "https://localhost:8080/",
          "height": 190
        },
        "id": "Dg7Dj_Di90M2",
        "outputId": "713bb67a-889f-4837-8b90-4f0968fceb23"
      },
      "outputs": [
        {
          "output_type": "stream",
          "name": "stderr",
          "text": [
            "WARNING:matplotlib.image:Clipping input data to the valid range for imshow with RGB data ([0..1] for floats or [0..255] for integers).\n"
          ]
        },
        {
          "output_type": "stream",
          "name": "stdout",
          "text": [
            "plane  frog  ship   cat\n"
          ]
        },
        {
          "output_type": "execute_result",
          "data": {
            "text/plain": [
              "torch.Size([4, 3, 32, 32])"
            ]
          },
          "metadata": {},
          "execution_count": 6
        },
        {
          "output_type": "display_data",
          "data": {
            "text/plain": [
              "<Figure size 432x288 with 1 Axes>"
            ],
            "image/png": "[encoded data removed]"
          },
          "metadata": {
            "needs_background": "light"
          }
        }
      ],
      "source": [
        "import matplotlib.pyplot as plt\n",
        "%matplotlib inline\n",
        "import numpy as np\n",
        "\n",
        "def show(img):\n",
        "  img = img/2 + 0.5\n",
        "  npimg= img.numpy()\n",
        "  plt.imshow(np.transpose(npimg, (1, 2, 0)))\n",
        "\n",
        "dataiter = iter(trainloader)\n",
        "images, labels= next(dataiter)\n",
        "\n",
        "\n",
        "show(torchvision.utils.make_grid(images, normalize=False))\n",
        "\n",
        "print(' '.join('%5s' % classes[labels[j]] for j in range (4)))\n",
        "\n",
        "images.shape"
      ]
    },
    {
      "cell_type": "markdown",
      "source": [
        "# Use CUDA as a devide"
      ],
      "metadata": {
        "id": "3geDmQVIRwdd"
      }
    },
    {
      "cell_type": "code",
      "execution_count": 7,
      "metadata": {
        "id": "xN02RwVc93SI"
      },
      "outputs": [],
      "source": [
        "use_cuda = torch.cuda.is_available()\n",
        "device = torch.device(\"cuda\" if use_cuda else \"cpu\")"
      ]
    },
    {
      "cell_type": "markdown",
      "source": [
        "# Create object of the model and print summary to know parameters"
      ],
      "metadata": {
        "id": "EjRHKJ_3Rz7V"
      }
    },
    {
      "cell_type": "code",
      "execution_count": 8,
      "metadata": {
        "colab": {
          "base_uri": "https://localhost:8080/"
        },
        "id": "JM7Q7uWJ96sv",
        "outputId": "3a9c7af6-aa62-4f68-e496-26f27ff9ff58"
      },
      "outputs": [
        {
          "output_type": "stream",
          "name": "stdout",
          "text": [
            "Looking in indexes: https://pypi.org/simple, https://us-python.pkg.dev/colab-wheels/public/simple/\n",
            "Requirement already satisfied: torchsummary in /usr/local/lib/python3.8/dist-packages (1.5.1)\n",
            "----------------------------------------------------------------\n",
            "        Layer (type)               Output Shape         Param #\n",
            "================================================================\n",
            "            Conv2d-1           [-1, 16, 32, 32]             448\n",
            "       BatchNorm2d-2           [-1, 16, 32, 32]              32\n",
            "              ReLU-3           [-1, 16, 32, 32]               0\n",
            "           Dropout-4           [-1, 16, 32, 32]               0\n",
            "            Conv2d-5           [-1, 32, 32, 32]           4,640\n",
            "       BatchNorm2d-6           [-1, 32, 32, 32]              64\n",
            "              ReLU-7           [-1, 32, 32, 32]               0\n",
            "           Dropout-8           [-1, 32, 32, 32]               0\n",
            "            Conv2d-9           [-1, 64, 15, 15]          18,496\n",
            "      BatchNorm2d-10           [-1, 64, 15, 15]             128\n",
            "             ReLU-11           [-1, 64, 15, 15]               0\n",
            "          Dropout-12           [-1, 64, 15, 15]               0\n",
            "           Conv2d-13            [-1, 128, 8, 8]          73,856\n",
            "      BatchNorm2d-14            [-1, 128, 8, 8]             256\n",
            "             ReLU-15            [-1, 128, 8, 8]               0\n",
            "          Dropout-16            [-1, 128, 8, 8]               0\n",
            "           Conv2d-17             [-1, 64, 4, 4]          73,792\n",
            "      BatchNorm2d-18             [-1, 64, 4, 4]             128\n",
            "             ReLU-19             [-1, 64, 4, 4]               0\n",
            "          Dropout-20             [-1, 64, 4, 4]               0\n",
            "           Conv2d-21             [-1, 16, 4, 4]           9,232\n",
            "      BatchNorm2d-22             [-1, 16, 4, 4]              32\n",
            "             ReLU-23             [-1, 16, 4, 4]               0\n",
            "          Dropout-24             [-1, 16, 4, 4]               0\n",
            "           Conv2d-25             [-1, 32, 4, 4]           4,640\n",
            "      BatchNorm2d-26             [-1, 32, 4, 4]              64\n",
            "             ReLU-27             [-1, 32, 4, 4]               0\n",
            "          Dropout-28             [-1, 32, 4, 4]               0\n",
            "        AvgPool2d-29             [-1, 32, 2, 2]               0\n",
            "           Linear-30                   [-1, 64]           8,256\n",
            "           Linear-31                   [-1, 10]             650\n",
            "================================================================\n",
            "Total params: 194,714\n",
            "Trainable params: 194,714\n",
            "Non-trainable params: 0\n",
            "----------------------------------------------------------------\n",
            "Input size (MB): 0.01\n",
            "Forward/backward pass size (MB): 2.25\n",
            "Params size (MB): 0.74\n",
            "Estimated Total Size (MB): 3.00\n",
            "----------------------------------------------------------------\n"
          ]
        }
      ],
      "source": [
        "!pip install torchsummary\n",
        "from torchsummary import summary\n",
        "\n",
        "net = model.Net().to(device)\n",
        "summary(net, input_size=(3, 32, 32))"
      ]
    },
    {
      "cell_type": "markdown",
      "source": [
        "# Model Training and Testing functions"
      ],
      "metadata": {
        "id": "Vgiza2mSR5ml"
      }
    },
    {
      "cell_type": "code",
      "execution_count": 9,
      "metadata": {
        "id": "hYKuC9FYOTZI"
      },
      "outputs": [],
      "source": [
        "from tqdm import tqdm\n",
        "import matplotlib.pyplot as plt\n",
        "import numpy\n",
        "\n",
        "train_losses = []\n",
        "test_losses = []\n",
        "train_acc = []\n",
        "test_acc = []\n",
        "\n",
        "def train(model, device, trainloader, optimizer, epoch):\n",
        "  #model.train()\n",
        "  trainloader = trainloader\n",
        "  correct = 0\n",
        "  processed = 0\n",
        "  running_loss = 0.0\n",
        "  for batch_idx, data in enumerate(trainloader, 0):\n",
        "    \n",
        "    # get samples\n",
        "    inputs, labels = data\n",
        "    inputs, labels = inputs.to(device), labels.to(device)\n",
        "\n",
        "\n",
        "    # zero the parameter gradients\n",
        "    optimizer.zero_grad()\n",
        "\n",
        "    # forward + backward + optimize\n",
        "    outputs = net(inputs).to(device)\n",
        "    loss = criterion(outputs, labels)\n",
        "    train_losses.append(loss.item())\n",
        "\n",
        "    loss.backward()\n",
        "    optimizer.step()\n",
        "\n",
        "    pred = outputs.argmax(dim=1, keepdim=True)  \n",
        "    correct += pred.eq(labels.view_as(pred)).sum().item()\n",
        "    processed += len(data)\n",
        "\n",
        "    running_loss += loss.item()\n",
        "\n",
        "    if batch_idx % 6000 == 5999:    # print every 2000 mini-batches\n",
        "            print('[%d, %5d] loss: %.3f' %\n",
        "                  (epoch + 1, batch_idx + 1, running_loss / 6000))\n",
        "            running_loss = 0.0\n",
        "\n",
        "\n",
        " \n",
        "def test(model, device, testloader):\n",
        "    test_loss = 0\n",
        "    correct = 0\n",
        "       \n",
        "    with torch.no_grad():\n",
        "        for data, labels in testloader:\n",
        "            data, labels = data.to(device), labels.to(device)\n",
        "            output = net(data)\n",
        "            test_loss += criterion(output, labels).item()  # sum up batch loss\n",
        "            pred = output.argmax(dim=1, keepdim=True)  # get the index of the max log-probability\n",
        "            correct += pred.eq(labels.view_as(pred)).sum().item()\n",
        "         \n",
        "\n",
        "    test_loss /= len(testloader.dataset)\n",
        "    test_losses.append(test_loss)\n",
        "\n",
        "    print('\\nTest set: Average loss: {:.4f}, Accuracy: {}/{} ({:.2f}%)\\n'.format(\n",
        "          test_loss, correct, len(testloader.dataset),\n",
        "          100. * correct / len(testloader.dataset)))\n",
        "      \n",
        "    test_acc.append(100. * correct / len(testloader.dataset))\n",
        "  \n",
        "  "
      ]
    },
    {
      "cell_type": "markdown",
      "source": [
        "# Setup loss and optimizer"
      ],
      "metadata": {
        "id": "rTGZempUSDSF"
      }
    },
    {
      "cell_type": "code",
      "source": [
        "import torch.nn as nn\n",
        "import torch.optim as optim\n",
        "\n",
        "criterion = nn.CrossEntropyLoss().to(device)\n",
        "optimizer = optim.SGD(net.parameters(), lr=0.001, momentum=0.9)"
      ],
      "metadata": {
        "id": "5h_7mUP_SJh2"
      },
      "execution_count": 10,
      "outputs": []
    },
    {
      "cell_type": "markdown",
      "source": [
        "# Train the model and test accuracy after each epoch"
      ],
      "metadata": {
        "id": "ggIhrPnsSLIV"
      }
    },
    {
      "cell_type": "code",
      "execution_count": 11,
      "metadata": {
        "id": "JhuuN-sECvyD",
        "outputId": "7ebd32e1-667b-446e-a984-be79f0eb343d",
        "colab": {
          "base_uri": "https://localhost:8080/"
        }
      },
      "outputs": [
        {
          "output_type": "stream",
          "name": "stdout",
          "text": [
            "[1,  6000] loss: 1.886\n",
            "[1, 12000] loss: 1.646\n",
            "\n",
            "Test set: Average loss: 0.3907, Accuracy: 4305/10000 (43.05%)\n",
            "\n",
            "[2,  6000] loss: 1.525\n",
            "[2, 12000] loss: 1.446\n",
            "\n",
            "Test set: Average loss: 0.3535, Accuracy: 4912/10000 (49.12%)\n",
            "\n",
            "[3,  6000] loss: 1.375\n",
            "[3, 12000] loss: 1.332\n",
            "\n",
            "Test set: Average loss: 0.3201, Accuracy: 5378/10000 (53.78%)\n",
            "\n",
            "[4,  6000] loss: 1.274\n",
            "[4, 12000] loss: 1.253\n",
            "\n",
            "Test set: Average loss: 0.3158, Accuracy: 5513/10000 (55.13%)\n",
            "\n",
            "[5,  6000] loss: 1.214\n",
            "[5, 12000] loss: 1.202\n",
            "\n",
            "Test set: Average loss: 0.2946, Accuracy: 5797/10000 (57.97%)\n",
            "\n",
            "[6,  6000] loss: 1.171\n",
            "[6, 12000] loss: 1.154\n",
            "\n",
            "Test set: Average loss: 0.2859, Accuracy: 5928/10000 (59.28%)\n",
            "\n",
            "[7,  6000] loss: 1.132\n",
            "[7, 12000] loss: 1.124\n",
            "\n",
            "Test set: Average loss: 0.2894, Accuracy: 5908/10000 (59.08%)\n",
            "\n",
            "[8,  6000] loss: 1.106\n",
            "[8, 12000] loss: 1.098\n",
            "\n",
            "Test set: Average loss: 0.2755, Accuracy: 6056/10000 (60.56%)\n",
            "\n",
            "[9,  6000] loss: 1.068\n",
            "[9, 12000] loss: 1.064\n",
            "\n",
            "Test set: Average loss: 0.2680, Accuracy: 6154/10000 (61.54%)\n",
            "\n",
            "[10,  6000] loss: 1.051\n",
            "[10, 12000] loss: 1.049\n",
            "\n",
            "Test set: Average loss: 0.2646, Accuracy: 6251/10000 (62.51%)\n",
            "\n",
            "[11,  6000] loss: 1.029\n",
            "[11, 12000] loss: 1.030\n",
            "\n",
            "Test set: Average loss: 0.2581, Accuracy: 6335/10000 (63.35%)\n",
            "\n",
            "[12,  6000] loss: 1.012\n",
            "[12, 12000] loss: 1.015\n",
            "\n",
            "Test set: Average loss: 0.2523, Accuracy: 6466/10000 (64.66%)\n",
            "\n",
            "[13,  6000] loss: 1.004\n",
            "[13, 12000] loss: 0.982\n",
            "\n",
            "Test set: Average loss: 0.2516, Accuracy: 6444/10000 (64.44%)\n",
            "\n",
            "[14,  6000] loss: 0.982\n",
            "[14, 12000] loss: 0.985\n",
            "\n",
            "Test set: Average loss: 0.2536, Accuracy: 6441/10000 (64.41%)\n",
            "\n",
            "[15,  6000] loss: 0.971\n",
            "[15, 12000] loss: 0.976\n",
            "\n",
            "Test set: Average loss: 0.2541, Accuracy: 6462/10000 (64.62%)\n",
            "\n",
            "[16,  6000] loss: 0.955\n",
            "[16, 12000] loss: 0.955\n",
            "\n",
            "Test set: Average loss: 0.2441, Accuracy: 6561/10000 (65.61%)\n",
            "\n",
            "[17,  6000] loss: 0.945\n",
            "[17, 12000] loss: 0.942\n",
            "\n",
            "Test set: Average loss: 0.2382, Accuracy: 6604/10000 (66.04%)\n",
            "\n",
            "[18,  6000] loss: 0.941\n",
            "[18, 12000] loss: 0.930\n",
            "\n",
            "Test set: Average loss: 0.2421, Accuracy: 6672/10000 (66.72%)\n",
            "\n",
            "[19,  6000] loss: 0.923\n",
            "[19, 12000] loss: 0.930\n",
            "\n",
            "Test set: Average loss: 0.2386, Accuracy: 6627/10000 (66.27%)\n",
            "\n",
            "[20,  6000] loss: 0.916\n",
            "[20, 12000] loss: 0.924\n",
            "\n",
            "Test set: Average loss: 0.2466, Accuracy: 6531/10000 (65.31%)\n",
            "\n",
            "[21,  6000] loss: 0.898\n",
            "[21, 12000] loss: 0.920\n",
            "\n",
            "Test set: Average loss: 0.2309, Accuracy: 6736/10000 (67.36%)\n",
            "\n",
            "[22,  6000] loss: 0.900\n",
            "[22, 12000] loss: 0.890\n",
            "\n",
            "Test set: Average loss: 0.2325, Accuracy: 6671/10000 (66.71%)\n",
            "\n",
            "[23,  6000] loss: 0.894\n",
            "[23, 12000] loss: 0.888\n",
            "\n",
            "Test set: Average loss: 0.2360, Accuracy: 6706/10000 (67.06%)\n",
            "\n",
            "[24,  6000] loss: 0.882\n",
            "[24, 12000] loss: 0.901\n",
            "\n",
            "Test set: Average loss: 0.2309, Accuracy: 6773/10000 (67.73%)\n",
            "\n",
            "[25,  6000] loss: 0.880\n",
            "[25, 12000] loss: 0.875\n",
            "\n",
            "Test set: Average loss: 0.2248, Accuracy: 6834/10000 (68.34%)\n",
            "\n",
            "[26,  6000] loss: 0.878\n",
            "[26, 12000] loss: 0.883\n",
            "\n",
            "Test set: Average loss: 0.2325, Accuracy: 6789/10000 (67.89%)\n",
            "\n",
            "[27,  6000] loss: 0.872\n",
            "[27, 12000] loss: 0.865\n",
            "\n",
            "Test set: Average loss: 0.2268, Accuracy: 6817/10000 (68.17%)\n",
            "\n",
            "[28,  6000] loss: 0.852\n",
            "[28, 12000] loss: 0.862\n",
            "\n",
            "Test set: Average loss: 0.2267, Accuracy: 6801/10000 (68.01%)\n",
            "\n",
            "[29,  6000] loss: 0.856\n",
            "[29, 12000] loss: 0.854\n",
            "\n",
            "Test set: Average loss: 0.2279, Accuracy: 6809/10000 (68.09%)\n",
            "\n",
            "[30,  6000] loss: 0.853\n",
            "[30, 12000] loss: 0.851\n",
            "\n",
            "Test set: Average loss: 0.2283, Accuracy: 6773/10000 (67.73%)\n",
            "\n",
            "[31,  6000] loss: 0.841\n",
            "[31, 12000] loss: 0.855\n",
            "\n",
            "Test set: Average loss: 0.2211, Accuracy: 6911/10000 (69.11%)\n",
            "\n",
            "[32,  6000] loss: 0.843\n",
            "[32, 12000] loss: 0.836\n",
            "\n",
            "Test set: Average loss: 0.2273, Accuracy: 6891/10000 (68.91%)\n",
            "\n",
            "[33,  6000] loss: 0.841\n",
            "[33, 12000] loss: 0.835\n",
            "\n",
            "Test set: Average loss: 0.2267, Accuracy: 6815/10000 (68.15%)\n",
            "\n",
            "[34,  6000] loss: 0.827\n",
            "[34, 12000] loss: 0.838\n",
            "\n",
            "Test set: Average loss: 0.2226, Accuracy: 6909/10000 (69.09%)\n",
            "\n",
            "[35,  6000] loss: 0.819\n",
            "[35, 12000] loss: 0.829\n",
            "\n",
            "Test set: Average loss: 0.2184, Accuracy: 6911/10000 (69.11%)\n",
            "\n",
            "[36,  6000] loss: 0.817\n",
            "[36, 12000] loss: 0.819\n",
            "\n",
            "Test set: Average loss: 0.2193, Accuracy: 6949/10000 (69.49%)\n",
            "\n",
            "[37,  6000] loss: 0.819\n",
            "[37, 12000] loss: 0.829\n",
            "\n",
            "Test set: Average loss: 0.2257, Accuracy: 6851/10000 (68.51%)\n",
            "\n",
            "[38,  6000] loss: 0.818\n",
            "[38, 12000] loss: 0.803\n",
            "\n",
            "Test set: Average loss: 0.2187, Accuracy: 6964/10000 (69.64%)\n",
            "\n",
            "[39,  6000] loss: 0.817\n",
            "[39, 12000] loss: 0.806\n",
            "\n",
            "Test set: Average loss: 0.2200, Accuracy: 6889/10000 (68.89%)\n",
            "\n",
            "[40,  6000] loss: 0.809\n",
            "[40, 12000] loss: 0.804\n",
            "\n",
            "Test set: Average loss: 0.2236, Accuracy: 6877/10000 (68.77%)\n",
            "\n",
            "[41,  6000] loss: 0.807\n",
            "[41, 12000] loss: 0.799\n",
            "\n",
            "Test set: Average loss: 0.2184, Accuracy: 6948/10000 (69.48%)\n",
            "\n",
            "[42,  6000] loss: 0.794\n",
            "[42, 12000] loss: 0.802\n",
            "\n",
            "Test set: Average loss: 0.2291, Accuracy: 6848/10000 (68.48%)\n",
            "\n",
            "[43,  6000] loss: 0.788\n",
            "[43, 12000] loss: 0.811\n",
            "\n",
            "Test set: Average loss: 0.2176, Accuracy: 6914/10000 (69.14%)\n",
            "\n",
            "[44,  6000] loss: 0.795\n",
            "[44, 12000] loss: 0.790\n",
            "\n",
            "Test set: Average loss: 0.2147, Accuracy: 7002/10000 (70.02%)\n",
            "\n",
            "[45,  6000] loss: 0.783\n",
            "[45, 12000] loss: 0.784\n",
            "\n",
            "Test set: Average loss: 0.2131, Accuracy: 7072/10000 (70.72%)\n",
            "\n",
            "[46,  6000] loss: 0.784\n",
            "[46, 12000] loss: 0.783\n",
            "\n",
            "Test set: Average loss: 0.2171, Accuracy: 7018/10000 (70.18%)\n",
            "\n",
            "[47,  6000] loss: 0.787\n",
            "[47, 12000] loss: 0.786\n",
            "\n",
            "Test set: Average loss: 0.2125, Accuracy: 7030/10000 (70.30%)\n",
            "\n",
            "[48,  6000] loss: 0.777\n",
            "[48, 12000] loss: 0.780\n",
            "\n",
            "Test set: Average loss: 0.2119, Accuracy: 7042/10000 (70.42%)\n",
            "\n",
            "[49,  6000] loss: 0.778\n",
            "[49, 12000] loss: 0.774\n",
            "\n",
            "Test set: Average loss: 0.2164, Accuracy: 6983/10000 (69.83%)\n",
            "\n",
            "[50,  6000] loss: 0.785\n",
            "[50, 12000] loss: 0.771\n",
            "\n",
            "Test set: Average loss: 0.2083, Accuracy: 7129/10000 (71.29%)\n",
            "\n",
            "[51,  6000] loss: 0.769\n",
            "[51, 12000] loss: 0.777\n",
            "\n",
            "Test set: Average loss: 0.2120, Accuracy: 7044/10000 (70.44%)\n",
            "\n",
            "[52,  6000] loss: 0.773\n",
            "[52, 12000] loss: 0.773\n",
            "\n",
            "Test set: Average loss: 0.2110, Accuracy: 6994/10000 (69.94%)\n",
            "\n",
            "[53,  6000] loss: 0.771\n",
            "[53, 12000] loss: 0.767\n",
            "\n",
            "Test set: Average loss: 0.2079, Accuracy: 7106/10000 (71.06%)\n",
            "\n",
            "[54,  6000] loss: 0.751\n",
            "[54, 12000] loss: 0.774\n",
            "\n",
            "Test set: Average loss: 0.2086, Accuracy: 7121/10000 (71.21%)\n",
            "\n",
            "[55,  6000] loss: 0.762\n",
            "[55, 12000] loss: 0.771\n",
            "\n",
            "Test set: Average loss: 0.2077, Accuracy: 7099/10000 (70.99%)\n",
            "\n",
            "[56,  6000] loss: 0.760\n",
            "[56, 12000] loss: 0.763\n",
            "\n",
            "Test set: Average loss: 0.2137, Accuracy: 7100/10000 (71.00%)\n",
            "\n",
            "[57,  6000] loss: 0.756\n",
            "[57, 12000] loss: 0.763\n",
            "\n",
            "Test set: Average loss: 0.2078, Accuracy: 7110/10000 (71.10%)\n",
            "\n",
            "[58,  6000] loss: 0.754\n",
            "[58, 12000] loss: 0.757\n",
            "\n",
            "Test set: Average loss: 0.2090, Accuracy: 7097/10000 (70.97%)\n",
            "\n",
            "[59,  6000] loss: 0.762\n",
            "[59, 12000] loss: 0.752\n",
            "\n",
            "Test set: Average loss: 0.2085, Accuracy: 7107/10000 (71.07%)\n",
            "\n",
            "[60,  6000] loss: 0.752\n",
            "[60, 12000] loss: 0.752\n",
            "\n",
            "Test set: Average loss: 0.2065, Accuracy: 7125/10000 (71.25%)\n",
            "\n",
            "[61,  6000] loss: 0.742\n",
            "[61, 12000] loss: 0.745\n",
            "\n",
            "Test set: Average loss: 0.2052, Accuracy: 7078/10000 (70.78%)\n",
            "\n",
            "[62,  6000] loss: 0.752\n",
            "[62, 12000] loss: 0.756\n",
            "\n",
            "Test set: Average loss: 0.2081, Accuracy: 7154/10000 (71.54%)\n",
            "\n",
            "[63,  6000] loss: 0.736\n",
            "[63, 12000] loss: 0.736\n",
            "\n",
            "Test set: Average loss: 0.2043, Accuracy: 7150/10000 (71.50%)\n",
            "\n",
            "[64,  6000] loss: 0.737\n",
            "[64, 12000] loss: 0.742\n",
            "\n",
            "Test set: Average loss: 0.2053, Accuracy: 7127/10000 (71.27%)\n",
            "\n",
            "[65,  6000] loss: 0.737\n",
            "[65, 12000] loss: 0.738\n",
            "\n",
            "Test set: Average loss: 0.2076, Accuracy: 7111/10000 (71.11%)\n",
            "\n",
            "[66,  6000] loss: 0.738\n",
            "[66, 12000] loss: 0.742\n",
            "\n",
            "Test set: Average loss: 0.2092, Accuracy: 7129/10000 (71.29%)\n",
            "\n",
            "[67,  6000] loss: 0.734\n",
            "[67, 12000] loss: 0.736\n",
            "\n",
            "Test set: Average loss: 0.2052, Accuracy: 7194/10000 (71.94%)\n",
            "\n",
            "[68,  6000] loss: 0.723\n",
            "[68, 12000] loss: 0.738\n",
            "\n",
            "Test set: Average loss: 0.2019, Accuracy: 7211/10000 (72.11%)\n",
            "\n",
            "[69,  6000] loss: 0.731\n",
            "[69, 12000] loss: 0.737\n",
            "\n",
            "Test set: Average loss: 0.1998, Accuracy: 7234/10000 (72.34%)\n",
            "\n",
            "[70,  6000] loss: 0.730\n",
            "[70, 12000] loss: 0.726\n",
            "\n",
            "Test set: Average loss: 0.2057, Accuracy: 7180/10000 (71.80%)\n",
            "\n"
          ]
        }
      ],
      "source": [
        "import torch.optim as optim\n",
        "\n",
        "net =  model.Net().to(device)\n",
        "criterion = nn.CrossEntropyLoss().to(device)\n",
        "optimizer = optim.SGD(net.parameters(), lr=0.001, momentum=0.9)\n",
        "\n",
        "EPOCHS = 70\n",
        "\n",
        "for epoch in range(EPOCHS):\n",
        "    train(net, device, trainloader, optimizer, epoch)\n",
        "    \n",
        "    test(net, device, testloader)\n"
      ]
    },
    {
      "cell_type": "code",
      "source": [
        "%matplotlib inline\n",
        "import matplotlib.pyplot as plt\n",
        "\n",
        "fig, axs = plt.subplots(2,1,figsize=(15,10))\n",
        "\n",
        "axs[0].plot(train_losses, color='red', label='Train Loss')\n",
        "axs[0].plot(test_losses, color='blue', label='Test Loss')\n",
        "axs[0].set_title(\"Test/Validation Loss\")\n",
        "axs[0].legend()\n",
        "\n",
        "axs[1].plot(train_acc[100:], color='red', label='Train Accuracy')\n",
        "axs[1].plot(test_acc, color='blue', label='Test Accuracy')\n",
        "\n",
        "axs[1].set_title(\"Test/Validation Accuracy\")\n",
        "axs[1].legend()"
      ],
      "metadata": {
        "id": "c4mGHkoOTDJ3",
        "outputId": "5987aceb-cc93-4cc8-9650-37e962c36740",
        "colab": {
          "base_uri": "https://localhost:8080/",
          "height": 624
        }
      },
      "execution_count": 13,
      "outputs": [
        {
          "output_type": "execute_result",
          "data": {
            "text/plain": [
              "<matplotlib.legend.Legend at 0x7f44e10b0310>"
            ]
          },
          "metadata": {},
          "execution_count": 13
        },
        {
          "output_type": "display_data",
          "data": {
            "text/plain": [
              "<Figure size 1080x720 with 2 Axes>"
            ],
            "image/png": "[encoded data removed]"
          },
          "metadata": {
            "needs_background": "light"
          }
        }
      ]
    }
  ],
  "metadata": {
    "accelerator": "GPU",
    "colab": {
      "provenance": []
    },
    "gpuClass": "standard",
    "kernelspec": {
      "display_name": "Python 3",
      "name": "python3"
    },
    "language_info": {
      "name": "python"
    },
    "widgets": {
      "application/vnd.jupyter.widget-state+json": {
        "0f8918df12514ec5a70914d79f8e27a9": {
          "model_module": "@jupyter-widgets/controls",
          "model_name": "HBoxModel",
          "model_module_version": "1.5.0",
          "state": {
            "_dom_classes": [],
            "_model_module": "@jupyter-widgets/controls",
            "_model_module_version": "1.5.0",
            "_model_name": "HBoxModel",
            "_view_count": null,
            "_view_module": "@jupyter-widgets/controls",
            "_view_module_version": "1.5.0",
            "_view_name": "HBoxView",
            "box_style": "",
            "children": [
              "IPY_MODEL_739123e42c684accb824c75c059aa625",
              "IPY_MODEL_02b84b915f94420eb13e46b500067749",
              "IPY_MODEL_70193a263ea2411fbba5a0ab59acf84d"
            ],
            "layout": "IPY_MODEL_ee8a19a0c27d4898b984c75aa81bc07f"
          }
        },
        "739123e42c684accb824c75c059aa625": {
          "model_module": "@jupyter-widgets/controls",
          "model_name": "HTMLModel",
          "model_module_version": "1.5.0",
          "state": {
            "_dom_classes": [],
            "_model_module": "@jupyter-widgets/controls",
            "_model_module_version": "1.5.0",
            "_model_name": "HTMLModel",
            "_view_count": null,
            "_view_module": "@jupyter-widgets/controls",
            "_view_module_version": "1.5.0",
            "_view_name": "HTMLView",
            "description": "",
            "description_tooltip": null,
            "layout": "IPY_MODEL_84f9f0c9f36c4cb1ad65df43f44c0fdb",
            "placeholder": "​",
            "style": "IPY_MODEL_c6e00b77f71d445ab6f5f014757f76b3",
            "value": "100%"
          }
        },
        "02b84b915f94420eb13e46b500067749": {
          "model_module": "@jupyter-widgets/controls",
          "model_name": "FloatProgressModel",
          "model_module_version": "1.5.0",
          "state": {
            "_dom_classes": [],
            "_model_module": "@jupyter-widgets/controls",
            "_model_module_version": "1.5.0",
            "_model_name": "FloatProgressModel",
            "_view_count": null,
            "_view_module": "@jupyter-widgets/controls",
            "_view_module_version": "1.5.0",
            "_view_name": "ProgressView",
            "bar_style": "success",
            "description": "",
            "description_tooltip": null,
            "layout": "IPY_MODEL_2737648618f94d008a74f30f67d2427d",
            "max": 170498071,
            "min": 0,
            "orientation": "horizontal",
            "style": "IPY_MODEL_89cf7079f58e489297c1910401b7a8e0",
            "value": 170498071
          }
        },
        "70193a263ea2411fbba5a0ab59acf84d": {
          "model_module": "@jupyter-widgets/controls",
          "model_name": "HTMLModel",
          "model_module_version": "1.5.0",
          "state": {
            "_dom_classes": [],
            "_model_module": "@jupyter-widgets/controls",
            "_model_module_version": "1.5.0",
            "_model_name": "HTMLModel",
            "_view_count": null,
            "_view_module": "@jupyter-widgets/controls",
            "_view_module_version": "1.5.0",
            "_view_name": "HTMLView",
            "description": "",
            "description_tooltip": null,
            "layout": "IPY_MODEL_234aaabdcd0a46398136d560a713ca3d",
            "placeholder": "​",
            "style": "IPY_MODEL_e995561ea73d4c3bb8ec1e96c5d36f17",
            "value": " 170498071/170498071 [00:03&lt;00:00, 52535209.41it/s]"
          }
        },
        "ee8a19a0c27d4898b984c75aa81bc07f": {
          "model_module": "@jupyter-widgets/base",
          "model_name": "LayoutModel",
          "model_module_version": "1.2.0",
          "state": {
            "_model_module": "@jupyter-widgets/base",
            "_model_module_version": "1.2.0",
            "_model_name": "LayoutModel",
            "_view_count": null,
            "_view_module": "@jupyter-widgets/base",
            "_view_module_version": "1.2.0",
            "_view_name": "LayoutView",
            "align_content": null,
            "align_items": null,
            "align_self": null,
            "border": null,
            "bottom": null,
            "display": null,
            "flex": null,
            "flex_flow": null,
            "grid_area": null,
            "grid_auto_columns": null,
            "grid_auto_flow": null,
            "grid_auto_rows": null,
            "grid_column": null,
            "grid_gap": null,
            "grid_row": null,
            "grid_template_areas": null,
            "grid_template_columns": null,
            "grid_template_rows": null,
            "height": null,
            "justify_content": null,
            "justify_items": null,
            "left": null,
            "margin": null,
            "max_height": null,
            "max_width": null,
            "min_height": null,
            "min_width": null,
            "object_fit": null,
            "object_position": null,
            "order": null,
            "overflow": null,
            "overflow_x": null,
            "overflow_y": null,
            "padding": null,
            "right": null,
            "top": null,
            "visibility": null,
            "width": null
          }
        },
        "84f9f0c9f36c4cb1ad65df43f44c0fdb": {
          "model_module": "@jupyter-widgets/base",
          "model_name": "LayoutModel",
          "model_module_version": "1.2.0",
          "state": {
            "_model_module": "@jupyter-widgets/base",
            "_model_module_version": "1.2.0",
            "_model_name": "LayoutModel",
            "_view_count": null,
            "_view_module": "@jupyter-widgets/base",
            "_view_module_version": "1.2.0",
            "_view_name": "LayoutView",
            "align_content": null,
            "align_items": null,
            "align_self": null,
            "border": null,
            "bottom": null,
            "display": null,
            "flex": null,
            "flex_flow": null,
            "grid_area": null,
            "grid_auto_columns": null,
            "grid_auto_flow": null,
            "grid_auto_rows": null,
            "grid_column": null,
            "grid_gap": null,
            "grid_row": null,
            "grid_template_areas": null,
            "grid_template_columns": null,
            "grid_template_rows": null,
            "height": null,
            "justify_content": null,
            "justify_items": null,
            "left": null,
            "margin": null,
            "max_height": null,
            "max_width": null,
            "min_height": null,
            "min_width": null,
            "object_fit": null,
            "object_position": null,
            "order": null,
            "overflow": null,
            "overflow_x": null,
            "overflow_y": null,
            "padding": null,
            "right": null,
            "top": null,
            "visibility": null,
            "width": null
          }
        },
        "c6e00b77f71d445ab6f5f014757f76b3": {
          "model_module": "@jupyter-widgets/controls",
          "model_name": "DescriptionStyleModel",
          "model_module_version": "1.5.0",
          "state": {
            "_model_module": "@jupyter-widgets/controls",
            "_model_module_version": "1.5.0",
            "_model_name": "DescriptionStyleModel",
            "_view_count": null,
            "_view_module": "@jupyter-widgets/base",
            "_view_module_version": "1.2.0",
            "_view_name": "StyleView",
            "description_width": ""
          }
        },
        "2737648618f94d008a74f30f67d2427d": {
          "model_module": "@jupyter-widgets/base",
          "model_name": "LayoutModel",
          "model_module_version": "1.2.0",
          "state": {
            "_model_module": "@jupyter-widgets/base",
            "_model_module_version": "1.2.0",
            "_model_name": "LayoutModel",
            "_view_count": null,
            "_view_module": "@jupyter-widgets/base",
            "_view_module_version": "1.2.0",
            "_view_name": "LayoutView",
            "align_content": null,
            "align_items": null,
            "align_self": null,
            "border": null,
            "bottom": null,
            "display": null,
            "flex": null,
            "flex_flow": null,
            "grid_area": null,
            "grid_auto_columns": null,
            "grid_auto_flow": null,
            "grid_auto_rows": null,
            "grid_column": null,
            "grid_gap": null,
            "grid_row": null,
            "grid_template_areas": null,
            "grid_template_columns": null,
            "grid_template_rows": null,
            "height": null,
            "justify_content": null,
            "justify_items": null,
            "left": null,
            "margin": null,
            "max_height": null,
            "max_width": null,
            "min_height": null,
            "min_width": null,
            "object_fit": null,
            "object_position": null,
            "order": null,
            "overflow": null,
            "overflow_x": null,
            "overflow_y": null,
            "padding": null,
            "right": null,
            "top": null,
            "visibility": null,
            "width": null
          }
        },
        "89cf7079f58e489297c1910401b7a8e0": {
          "model_module": "@jupyter-widgets/controls",
          "model_name": "ProgressStyleModel",
          "model_module_version": "1.5.0",
          "state": {
            "_model_module": "@jupyter-widgets/controls",
            "_model_module_version": "1.5.0",
            "_model_name": "ProgressStyleModel",
            "_view_count": null,
            "_view_module": "@jupyter-widgets/base",
            "_view_module_version": "1.2.0",
            "_view_name": "StyleView",
            "bar_color": null,
            "description_width": ""
          }
        },
        "234aaabdcd0a46398136d560a713ca3d": {
          "model_module": "@jupyter-widgets/base",
          "model_name": "LayoutModel",
          "model_module_version": "1.2.0",
          "state": {
            "_model_module": "@jupyter-widgets/base",
            "_model_module_version": "1.2.0",
            "_model_name": "LayoutModel",
            "_view_count": null,
            "_view_module": "@jupyter-widgets/base",
            "_view_module_version": "1.2.0",
            "_view_name": "LayoutView",
            "align_content": null,
            "align_items": null,
            "align_self": null,
            "border": null,
            "bottom": null,
            "display": null,
            "flex": null,
            "flex_flow": null,
            "grid_area": null,
            "grid_auto_columns": null,
            "grid_auto_flow": null,
            "grid_auto_rows": null,
            "grid_column": null,
            "grid_gap": null,
            "grid_row": null,
            "grid_template_areas": null,
            "grid_template_columns": null,
            "grid_template_rows": null,
            "height": null,
            "justify_content": null,
            "justify_items": null,
            "left": null,
            "margin": null,
            "max_height": null,
            "max_width": null,
            "min_height": null,
            "min_width": null,
            "object_fit": null,
            "object_position": null,
            "order": null,
            "overflow": null,
            "overflow_x": null,
            "overflow_y": null,
            "padding": null,
            "right": null,
            "top": null,
            "visibility": null,
            "width": null
          }
        },
        "e995561ea73d4c3bb8ec1e96c5d36f17": {
          "model_module": "@jupyter-widgets/controls",
          "model_name": "DescriptionStyleModel",
          "model_module_version": "1.5.0",
          "state": {
            "_model_module": "@jupyter-widgets/controls",
            "_model_module_version": "1.5.0",
            "_model_name": "DescriptionStyleModel",
            "_view_count": null,
            "_view_module": "@jupyter-widgets/base",
            "_view_module_version": "1.2.0",
            "_view_name": "StyleView",
            "description_width": ""
          }
        }
      }
    }
  },
  "nbformat": 4,
  "nbformat_minor": 0
}