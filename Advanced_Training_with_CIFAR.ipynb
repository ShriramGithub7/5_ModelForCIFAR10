{
  "cells": [
    {
      "cell_type": "markdown",
      "metadata": {
        "id": "view-in-github",
        "colab_type": "text"
      },
      "source": [
        "<a href=\"https://colab.research.google.com/github/ShriramGithub7/5_ModelForCIFAR10/blob/main/Advanced_Training_with_CIFAR.ipynb\" target=\"_parent\"><img src=\"https://colab.research.google.com/assets/colab-badge.svg\" alt=\"Open In Colab\"/></a>"
      ]
    },
    {
      "cell_type": "markdown",
      "source": [
        "# Import required libraries"
      ],
      "metadata": {
        "id": "DzifJwEe3qrc"
      }
    },
    {
      "cell_type": "code",
      "source": [
        "from google.colab import drive\n",
        "drive.mount('/content/drive', force_remount=True)"
      ],
      "metadata": {
        "colab": {
          "base_uri": "https://localhost:8080/"
        },
        "id": "AX0JX7AB75QG",
        "outputId": "fc06f8df-bce0-4e5f-a0fc-0d3560e0776e"
      },
      "execution_count": 1,
      "outputs": [
        {
          "output_type": "stream",
          "name": "stdout",
          "text": [
            "Mounted at /content/drive\n"
          ]
        }
      ]
    },
    {
      "cell_type": "code",
      "source": [
        "!ls /content/drive/MyDrive/Colab\\ Notebooks/*.py\n"
      ],
      "metadata": {
        "id": "e2MeiHKwVXPg",
        "outputId": "0c78fbef-fc0b-45fe-a3ce-74fcfc017d40",
        "colab": {
          "base_uri": "https://localhost:8080/"
        }
      },
      "execution_count": 2,
      "outputs": [
        {
          "output_type": "stream",
          "name": "stdout",
          "text": [
            "'/content/drive/MyDrive/Colab Notebooks/model.py'\n"
          ]
        }
      ]
    },
    {
      "cell_type": "code",
      "source": [
        "import sys\n",
        "sys.path.append(\"/content/drive/MyDrive/Colab Notebooks\")"
      ],
      "metadata": {
        "id": "NyM62uI2dYEY"
      },
      "execution_count": 3,
      "outputs": []
    },
    {
      "cell_type": "code",
      "source": [
        "import model\n",
        "net = model.Net()\n"
      ],
      "metadata": {
        "id": "TcIvyKtbdfs-"
      },
      "execution_count": 4,
      "outputs": []
    },
    {
      "cell_type": "code",
      "source": [
        "import torch\n",
        "import torchvision\n",
        "from torchvision import datasets, transforms\n",
        "import albumentations as A\n",
        "import numpy as np\n",
        "import torch.nn as nn\n",
        "import torch.nn.functional as F\n",
        "\n",
        "class Net(nn.Module):\n",
        "    def __init__(self):\n",
        "        super(Net, self).__init__()\n",
        "\n",
        "        # Input block\n",
        "        self.convblock1 = nn.Sequential(\n",
        "            nn.Conv2d(3, 16, 3, padding=1),\n",
        "            nn.BatchNorm2d(16),\n",
        "            nn.ReLU(),\n",
        "            nn.Dropout(0.01)\n",
        "        )\n",
        "\n",
        "        # Convolution Block\n",
        "        self.convblock2 = nn.Sequential(\n",
        "            nn.Conv2d(16, 32, 3, padding=1),\n",
        "            nn.BatchNorm2d(32),\n",
        "            nn.ReLU(),\n",
        "            nn.Dropout(0.01)\n",
        "        )\n",
        "        self.convblock3 = nn.Sequential(\n",
        "            nn.Conv2d(32, 64, 3, stride=2),\n",
        "            nn.BatchNorm2d(64),\n",
        "            nn.ReLU(),\n",
        "            nn.Dropout(0.01)\n",
        "        )\n",
        "\n",
        "        # Convolution Block\n",
        "\n",
        "        self.convblock4 = nn.Sequential(\n",
        "            nn.Conv2d(64, 128, 3, stride=2, padding=1),\n",
        "            nn.BatchNorm2d(128),\n",
        "            nn.ReLU(),\n",
        "            nn.Dropout(0.01)\n",
        "        )\n",
        "\n",
        "        # Convolution Block with dilation\n",
        "        self.convblock5 = nn.Sequential(\n",
        "            nn.Conv2d(128, 64, 3, stride=2, dilation=1, padding=1),\n",
        "            nn.BatchNorm2d(64),\n",
        "            nn.ReLU(),\n",
        "            nn.Dropout(0.01)\n",
        "        )\n",
        "        self.convblock6 = nn.Sequential(\n",
        "            nn.Conv2d(64, 16, 3, padding=1),\n",
        "            nn.BatchNorm2d(16),\n",
        "            nn.ReLU(),\n",
        "            nn.Dropout(0.01)\n",
        "        )\n",
        "\n",
        "        self.convblock7 = nn.Sequential(\n",
        "            nn.Conv2d(16, 32, 3, padding=1),\n",
        "            nn.BatchNorm2d(32),\n",
        "            nn.ReLU(),\n",
        "            nn.Dropout(0.01)\n",
        "        )\n",
        "        self.gap = nn.Sequential(\n",
        "            nn.AvgPool2d(kernel_size=2, stride=2)\n",
        "        )\n",
        "        self.fc1 = nn.Linear(32 * 2 * 2, 64)\n",
        "        self.fc2 = nn.Linear(64, 10)\n",
        "\n",
        "    def forward(self, x):\n",
        "        x = self.convblock1(x)\n",
        "        x = self.convblock2(x)\n",
        "        x = self.convblock3(x)\n",
        "        x = self.convblock4(x)\n",
        "        x = self.convblock5(x)\n",
        "        x = self.convblock6(x)\n",
        "        x = self.convblock7(x)\n",
        "        x = self.gap(x)\n",
        "        x = x.view(-1, 32 * 2 * 2)\n",
        "        x = self.fc1(x)\n",
        "        x = self.fc2(x)\n",
        "\n",
        "        return F.log_softmax(x, dim=-1)"
      ],
      "metadata": {
        "id": "cPctlmNszWQo"
      },
      "execution_count": null,
      "outputs": []
    },
    {
      "cell_type": "markdown",
      "source": [
        "# Find mean and std of CIFAR10 dataset"
      ],
      "metadata": {
        "id": "8RKzxmT034Dq"
      }
    },
    {
      "cell_type": "code",
      "source": [
        "# Loading the CIFAR10 dataset\n",
        "transform = transforms.Compose([transforms.ToTensor()])\n",
        "trainset = torchvision.datasets.CIFAR10(root='./data', train=True,\n",
        "                                        download=True, transform=transform)\n",
        "trainloader = torch.utils.data.DataLoader(trainset, batch_size=1,\n",
        "shuffle=False, num_workers=2)\n",
        "\n",
        "# Calculating mean and std of RGB channels\n",
        "mean = 0.\n",
        "std = 0.\n",
        "nb_samples = 0.\n",
        "for data in trainloader:\n",
        "    img, _ = data\n",
        "    batch_samples = img.size(0)\n",
        "    img = img.view(batch_samples, img.size(1), -1)\n",
        "    mean += img.mean(2).sum(0)\n",
        "    std += img.std(2).sum(0)\n",
        "    nb_samples += batch_samples\n",
        "\n",
        "mean /= nb_samples\n",
        "std /= nb_samples\n",
        "\n",
        "print(\"mean: \", mean)\n",
        "print(\"std: \", std)\n"
      ],
      "metadata": {
        "colab": {
          "base_uri": "https://localhost:8080/"
        },
        "id": "fXdorIIPIb6B",
        "outputId": "9e8d922c-53b9-428a-b00e-746a95360353"
      },
      "execution_count": 17,
      "outputs": [
        {
          "output_type": "stream",
          "name": "stdout",
          "text": [
            "Files already downloaded and verified\n",
            "mean:  tensor([0.4914, 0.4822, 0.4465])\n",
            "std:  tensor([0.2023, 0.1994, 0.2010])\n"
          ]
        }
      ]
    },
    {
      "cell_type": "markdown",
      "source": [
        "# Apply Albumentation and transformation on dataset"
      ],
      "metadata": {
        "id": "my7lDsGb4VN6"
      }
    },
    {
      "cell_type": "code",
      "execution_count": 18,
      "metadata": {
        "colab": {
          "base_uri": "https://localhost:8080/"
        },
        "id": "rIffUuF4dZ8j",
        "outputId": "5d4d516e-8f8f-43fa-9e5c-6192c7be86b5"
      },
      "outputs": [
        {
          "output_type": "stream",
          "name": "stdout",
          "text": [
            "Files already downloaded and verified\n",
            "Files already downloaded and verified\n"
          ]
        }
      ],
      "source": [
        "mean=(0.4914, 0.4822, 0.4465)\n",
        "std=(0.2023, 0.1994, 0.2010)\n",
        "\n",
        "def albumentations_transform(image):\n",
        "    image = np.array(image)\n",
        "    augmented = A.Compose(\n",
        "                [A.HorizontalFlip(),\n",
        "                A.ShiftScaleRotate(shift_limit=0.0625, scale_limit=0.1,rotate_limit=45),\n",
        "                A.CoarseDropout(max_holes=1, max_height=16, max_width=16, min_holes=1,min_height=16, min_width=16,\n",
        "                           fill_value=np.mean(mean), mask_fill_value=None),\n",
        "        ])(image=image)[\"image\"]\n",
        "    return transforms.ToTensor()(augmented)\n",
        "\n",
        "transform = transforms.Compose([\n",
        "    transforms.Lambda(albumentations_transform),\n",
        "    transforms.Normalize(mean, std),\n",
        "])\n",
        "\n",
        "trainset = torchvision.datasets.CIFAR10(root='./data', train=True,\n",
        "                                        download=True, transform=transform)\n",
        "\n",
        "batch_size = 4\n",
        "\n",
        "trainloader = torch.utils.data.DataLoader(trainset, batch_size=batch_size,\n",
        "shuffle=True, num_workers=2)\n",
        "\n",
        "testset = torchvision.datasets.CIFAR10(root='./data', train=False, \n",
        "                                       download=True, transform=transform)\n",
        "\n",
        "testloader = torch.utils.data.DataLoader(testset, batch_size=batch_size,\n",
        "shuffle=False, num_workers=2)\n",
        "\n",
        "classes = ('plane', 'car', 'bird', 'cat', 'deer', 'dog','frog', 'horse', 'ship', 'truck')"
      ]
    },
    {
      "cell_type": "markdown",
      "source": [
        "# View few images from the batch"
      ],
      "metadata": {
        "id": "32AwF9Ul4j97"
      }
    },
    {
      "cell_type": "code",
      "execution_count": null,
      "metadata": {
        "colab": {
          "base_uri": "https://localhost:8080/",
          "height": 588
        },
        "id": "jfRJx5UFdaat",
        "outputId": "c32a84b7-05b9-4f21-cad1-59487d35431a"
      },
      "outputs": [
        {
          "output_type": "error",
          "ename": "KeyError",
          "evalue": "ignored",
          "traceback": [
            "\u001b[0;31m---------------------------------------------------------------------------\u001b[0m",
            "\u001b[0;31mKeyError\u001b[0m                                  Traceback (most recent call last)",
            "\u001b[0;32m<ipython-input-79-b9a7b6d4d6fc>\u001b[0m in \u001b[0;36m<module>\u001b[0;34m\u001b[0m\n\u001b[1;32m      9\u001b[0m \u001b[0;34m\u001b[0m\u001b[0m\n\u001b[1;32m     10\u001b[0m \u001b[0mdataiter\u001b[0m \u001b[0;34m=\u001b[0m \u001b[0miter\u001b[0m\u001b[0;34m(\u001b[0m\u001b[0mtrainloader\u001b[0m\u001b[0;34m)\u001b[0m\u001b[0;34m\u001b[0m\u001b[0;34m\u001b[0m\u001b[0m\n\u001b[0;32m---> 11\u001b[0;31m \u001b[0mimages\u001b[0m\u001b[0;34m,\u001b[0m \u001b[0mlabels\u001b[0m\u001b[0;34m=\u001b[0m \u001b[0mnext\u001b[0m\u001b[0;34m(\u001b[0m\u001b[0mdataiter\u001b[0m\u001b[0;34m)\u001b[0m\u001b[0;34m\u001b[0m\u001b[0;34m\u001b[0m\u001b[0m\n\u001b[0m\u001b[1;32m     12\u001b[0m \u001b[0;34m\u001b[0m\u001b[0m\n\u001b[1;32m     13\u001b[0m \u001b[0;34m\u001b[0m\u001b[0m\n",
            "\u001b[0;32m/usr/local/lib/python3.8/dist-packages/torch/utils/data/dataloader.py\u001b[0m in \u001b[0;36m__next__\u001b[0;34m(self)\u001b[0m\n\u001b[1;32m    626\u001b[0m                 \u001b[0;31m# TODO(https://github.com/pytorch/pytorch/issues/76750)\u001b[0m\u001b[0;34m\u001b[0m\u001b[0;34m\u001b[0m\u001b[0;34m\u001b[0m\u001b[0m\n\u001b[1;32m    627\u001b[0m                 \u001b[0mself\u001b[0m\u001b[0;34m.\u001b[0m\u001b[0m_reset\u001b[0m\u001b[0;34m(\u001b[0m\u001b[0;34m)\u001b[0m  \u001b[0;31m# type: ignore[call-arg]\u001b[0m\u001b[0;34m\u001b[0m\u001b[0;34m\u001b[0m\u001b[0m\n\u001b[0;32m--> 628\u001b[0;31m             \u001b[0mdata\u001b[0m \u001b[0;34m=\u001b[0m \u001b[0mself\u001b[0m\u001b[0;34m.\u001b[0m\u001b[0m_next_data\u001b[0m\u001b[0;34m(\u001b[0m\u001b[0;34m)\u001b[0m\u001b[0;34m\u001b[0m\u001b[0;34m\u001b[0m\u001b[0m\n\u001b[0m\u001b[1;32m    629\u001b[0m             \u001b[0mself\u001b[0m\u001b[0;34m.\u001b[0m\u001b[0m_num_yielded\u001b[0m \u001b[0;34m+=\u001b[0m \u001b[0;36m1\u001b[0m\u001b[0;34m\u001b[0m\u001b[0;34m\u001b[0m\u001b[0m\n\u001b[1;32m    630\u001b[0m             \u001b[0;32mif\u001b[0m \u001b[0mself\u001b[0m\u001b[0;34m.\u001b[0m\u001b[0m_dataset_kind\u001b[0m \u001b[0;34m==\u001b[0m \u001b[0m_DatasetKind\u001b[0m\u001b[0;34m.\u001b[0m\u001b[0mIterable\u001b[0m \u001b[0;32mand\u001b[0m\u001b[0;31m \u001b[0m\u001b[0;31m\\\u001b[0m\u001b[0;34m\u001b[0m\u001b[0;34m\u001b[0m\u001b[0m\n",
            "\u001b[0;32m/usr/local/lib/python3.8/dist-packages/torch/utils/data/dataloader.py\u001b[0m in \u001b[0;36m_next_data\u001b[0;34m(self)\u001b[0m\n\u001b[1;32m   1331\u001b[0m             \u001b[0;32melse\u001b[0m\u001b[0;34m:\u001b[0m\u001b[0;34m\u001b[0m\u001b[0;34m\u001b[0m\u001b[0m\n\u001b[1;32m   1332\u001b[0m                 \u001b[0;32mdel\u001b[0m \u001b[0mself\u001b[0m\u001b[0;34m.\u001b[0m\u001b[0m_task_info\u001b[0m\u001b[0;34m[\u001b[0m\u001b[0midx\u001b[0m\u001b[0;34m]\u001b[0m\u001b[0;34m\u001b[0m\u001b[0;34m\u001b[0m\u001b[0m\n\u001b[0;32m-> 1333\u001b[0;31m                 \u001b[0;32mreturn\u001b[0m \u001b[0mself\u001b[0m\u001b[0;34m.\u001b[0m\u001b[0m_process_data\u001b[0m\u001b[0;34m(\u001b[0m\u001b[0mdata\u001b[0m\u001b[0;34m)\u001b[0m\u001b[0;34m\u001b[0m\u001b[0;34m\u001b[0m\u001b[0m\n\u001b[0m\u001b[1;32m   1334\u001b[0m \u001b[0;34m\u001b[0m\u001b[0m\n\u001b[1;32m   1335\u001b[0m     \u001b[0;32mdef\u001b[0m \u001b[0m_try_put_index\u001b[0m\u001b[0;34m(\u001b[0m\u001b[0mself\u001b[0m\u001b[0;34m)\u001b[0m\u001b[0;34m:\u001b[0m\u001b[0;34m\u001b[0m\u001b[0;34m\u001b[0m\u001b[0m\n",
            "\u001b[0;32m/usr/local/lib/python3.8/dist-packages/torch/utils/data/dataloader.py\u001b[0m in \u001b[0;36m_process_data\u001b[0;34m(self, data)\u001b[0m\n\u001b[1;32m   1357\u001b[0m         \u001b[0mself\u001b[0m\u001b[0;34m.\u001b[0m\u001b[0m_try_put_index\u001b[0m\u001b[0;34m(\u001b[0m\u001b[0;34m)\u001b[0m\u001b[0;34m\u001b[0m\u001b[0;34m\u001b[0m\u001b[0m\n\u001b[1;32m   1358\u001b[0m         \u001b[0;32mif\u001b[0m \u001b[0misinstance\u001b[0m\u001b[0;34m(\u001b[0m\u001b[0mdata\u001b[0m\u001b[0;34m,\u001b[0m \u001b[0mExceptionWrapper\u001b[0m\u001b[0;34m)\u001b[0m\u001b[0;34m:\u001b[0m\u001b[0;34m\u001b[0m\u001b[0;34m\u001b[0m\u001b[0m\n\u001b[0;32m-> 1359\u001b[0;31m             \u001b[0mdata\u001b[0m\u001b[0;34m.\u001b[0m\u001b[0mreraise\u001b[0m\u001b[0;34m(\u001b[0m\u001b[0;34m)\u001b[0m\u001b[0;34m\u001b[0m\u001b[0;34m\u001b[0m\u001b[0m\n\u001b[0m\u001b[1;32m   1360\u001b[0m         \u001b[0;32mreturn\u001b[0m \u001b[0mdata\u001b[0m\u001b[0;34m\u001b[0m\u001b[0;34m\u001b[0m\u001b[0m\n\u001b[1;32m   1361\u001b[0m \u001b[0;34m\u001b[0m\u001b[0m\n",
            "\u001b[0;32m/usr/local/lib/python3.8/dist-packages/torch/_utils.py\u001b[0m in \u001b[0;36mreraise\u001b[0;34m(self)\u001b[0m\n\u001b[1;32m    541\u001b[0m             \u001b[0;31m# instantiate since we don't know how to\u001b[0m\u001b[0;34m\u001b[0m\u001b[0;34m\u001b[0m\u001b[0;34m\u001b[0m\u001b[0m\n\u001b[1;32m    542\u001b[0m             \u001b[0;32mraise\u001b[0m \u001b[0mRuntimeError\u001b[0m\u001b[0;34m(\u001b[0m\u001b[0mmsg\u001b[0m\u001b[0;34m)\u001b[0m \u001b[0;32mfrom\u001b[0m \u001b[0;32mNone\u001b[0m\u001b[0;34m\u001b[0m\u001b[0;34m\u001b[0m\u001b[0m\n\u001b[0;32m--> 543\u001b[0;31m         \u001b[0;32mraise\u001b[0m \u001b[0mexception\u001b[0m\u001b[0;34m\u001b[0m\u001b[0;34m\u001b[0m\u001b[0m\n\u001b[0m\u001b[1;32m    544\u001b[0m \u001b[0;34m\u001b[0m\u001b[0m\n\u001b[1;32m    545\u001b[0m \u001b[0;34m\u001b[0m\u001b[0m\n",
            "\u001b[0;31mKeyError\u001b[0m: Caught KeyError in DataLoader worker process 0.\nOriginal Traceback (most recent call last):\n  File \"/usr/local/lib/python3.8/dist-packages/torch/utils/data/_utils/worker.py\", line 302, in _worker_loop\n    data = fetcher.fetch(index)\n  File \"/usr/local/lib/python3.8/dist-packages/torch/utils/data/_utils/fetch.py\", line 58, in fetch\n    data = [self.dataset[idx] for idx in possibly_batched_index]\n  File \"/usr/local/lib/python3.8/dist-packages/torch/utils/data/_utils/fetch.py\", line 58, in <listcomp>\n    data = [self.dataset[idx] for idx in possibly_batched_index]\n  File \"/usr/local/lib/python3.8/dist-packages/torchvision/datasets/cifar.py\", line 118, in __getitem__\n    img = self.transform(img)\n  File \"/usr/local/lib/python3.8/dist-packages/albumentations/core/composition.py\", line 188, in __call__\n    raise KeyError(\"You have to pass data to augmentations as named arguments, for example: aug(image=image)\")\nKeyError: 'You have to pass data to augmentations as named arguments, for example: aug(image=image)'\n"
          ]
        }
      ],
      "source": [
        "import matplotlib.pyplot as plt\n",
        "%matplotlib inline\n",
        "import numpy as np\n",
        "\n",
        "def show(img):\n",
        "  img = img/2 + 0.5\n",
        "  npimg= img.numpy()\n",
        "  plt.imshow(np.transpose(npimg, (1, 2, 0)))\n",
        "\n",
        "dataiter = iter(trainloader)\n",
        "images, labels= next(dataiter)\n",
        "\n",
        "\n",
        "show(torchvision.utils.make_grid(images, normalize=False))\n",
        "\n",
        "print(' '.join('%5s' % classes[labels[j]] for j in range (4)))\n",
        "\n",
        "images.shape"
      ]
    },
    {
      "cell_type": "markdown",
      "source": [
        "# Use CUDA as a devide"
      ],
      "metadata": {
        "id": "GVmiDY525E-E"
      }
    },
    {
      "cell_type": "code",
      "execution_count": 4,
      "metadata": {
        "id": "PmTmRbSZR5G6"
      },
      "outputs": [],
      "source": [
        "use_cuda = torch.cuda.is_available()\n",
        "device = torch.device(\"cuda\" if use_cuda else \"cpu\")"
      ]
    },
    {
      "cell_type": "markdown",
      "source": [
        "# Create object of the model present in model.py file"
      ],
      "metadata": {
        "id": "_aYj1paW5Loi"
      }
    },
    {
      "cell_type": "code",
      "execution_count": 5,
      "metadata": {
        "id": "w0eKBN1MHJ6C"
      },
      "outputs": [],
      "source": [
        "!pip install torchsummary\n",
        "from torchsummary import summary\n",
        "\n",
        "net = Net().to(device)\n",
        "summary(net, input_size=(3, 32, 32))"
      ]
    },
    {
      "cell_type": "markdown",
      "source": [
        "# Setup loss and optimizer"
      ],
      "metadata": {
        "id": "_Ecjdeyq5aw1"
      }
    },
    {
      "cell_type": "code",
      "execution_count": 7,
      "metadata": {
        "id": "k3kiNfXvdamG"
      },
      "outputs": [],
      "source": [
        "import torch.optim as optim\n",
        "\n",
        "criterion = nn.CrossEntropyLoss().to(device)\n",
        "optimizer = optim.SGD(net.parameters(), lr=0.001, momentum=0.9)"
      ]
    },
    {
      "cell_type": "markdown",
      "source": [
        "# Train the model"
      ],
      "metadata": {
        "id": "dHTL9sP95it2"
      }
    },
    {
      "cell_type": "code",
      "execution_count": 9,
      "metadata": {
        "colab": {
          "base_uri": "https://localhost:8080/"
        },
        "id": "cLOL_eBGdapN",
        "outputId": "7b4a0e0d-1b24-47d4-d0bf-b42d813fdc9d"
      },
      "outputs": [
        {
          "output_type": "stream",
          "name": "stdout",
          "text": [
            "[1,  2000] loss: 2.039\n",
            "[1,  4000] loss: 1.795\n",
            "[1,  6000] loss: 1.653\n",
            "[1,  8000] loss: 1.553\n",
            "[1, 10000] loss: 1.477\n",
            "[1, 12000] loss: 1.425\n",
            "[2,  2000] loss: 1.324\n",
            "[2,  4000] loss: 1.284\n",
            "[2,  6000] loss: 1.248\n",
            "[2,  8000] loss: 1.211\n",
            "[2, 10000] loss: 1.182\n",
            "[2, 12000] loss: 1.192\n",
            "[3,  2000] loss: 1.081\n",
            "[3,  4000] loss: 1.091\n",
            "[3,  6000] loss: 1.077\n",
            "[3,  8000] loss: 1.040\n",
            "[3, 10000] loss: 1.034\n",
            "[3, 12000] loss: 1.047\n",
            "[4,  2000] loss: 0.935\n",
            "[4,  4000] loss: 0.967\n",
            "[4,  6000] loss: 0.937\n",
            "[4,  8000] loss: 0.955\n",
            "[4, 10000] loss: 0.922\n",
            "[4, 12000] loss: 0.935\n",
            "[5,  2000] loss: 0.859\n",
            "[5,  4000] loss: 0.860\n",
            "[5,  6000] loss: 0.862\n",
            "[5,  8000] loss: 0.838\n",
            "[5, 10000] loss: 0.843\n",
            "[5, 12000] loss: 0.868\n",
            "[6,  2000] loss: 0.796\n",
            "[6,  4000] loss: 0.784\n",
            "[6,  6000] loss: 0.787\n",
            "[6,  8000] loss: 0.787\n",
            "[6, 10000] loss: 0.793\n",
            "[6, 12000] loss: 0.794\n",
            "[7,  2000] loss: 0.710\n",
            "[7,  4000] loss: 0.749\n",
            "[7,  6000] loss: 0.734\n",
            "[7,  8000] loss: 0.722\n",
            "[7, 10000] loss: 0.735\n",
            "[7, 12000] loss: 0.737\n",
            "[8,  2000] loss: 0.656\n",
            "[8,  4000] loss: 0.676\n",
            "[8,  6000] loss: 0.706\n",
            "[8,  8000] loss: 0.713\n",
            "[8, 10000] loss: 0.696\n",
            "[8, 12000] loss: 0.690\n",
            "[9,  2000] loss: 0.648\n",
            "[9,  4000] loss: 0.625\n",
            "[9,  6000] loss: 0.650\n",
            "[9,  8000] loss: 0.638\n",
            "[9, 10000] loss: 0.648\n",
            "[9, 12000] loss: 0.654\n",
            "[10,  2000] loss: 0.562\n",
            "[10,  4000] loss: 0.611\n",
            "[10,  6000] loss: 0.598\n",
            "[10,  8000] loss: 0.620\n",
            "[10, 10000] loss: 0.606\n",
            "[10, 12000] loss: 0.642\n",
            "[11,  2000] loss: 0.521\n",
            "[11,  4000] loss: 0.563\n",
            "[11,  6000] loss: 0.567\n",
            "[11,  8000] loss: 0.570\n",
            "[11, 10000] loss: 0.604\n",
            "[11, 12000] loss: 0.590\n",
            "[12,  2000] loss: 0.503\n",
            "[12,  4000] loss: 0.519\n",
            "[12,  6000] loss: 0.539\n",
            "[12,  8000] loss: 0.549\n",
            "[12, 10000] loss: 0.545\n",
            "[12, 12000] loss: 0.585\n",
            "[13,  2000] loss: 0.458\n",
            "[13,  4000] loss: 0.511\n",
            "[13,  6000] loss: 0.532\n",
            "[13,  8000] loss: 0.501\n",
            "[13, 10000] loss: 0.520\n",
            "[13, 12000] loss: 0.546\n",
            "[14,  2000] loss: 0.429\n",
            "[14,  4000] loss: 0.460\n",
            "[14,  6000] loss: 0.501\n",
            "[14,  8000] loss: 0.502\n",
            "[14, 10000] loss: 0.505\n",
            "[14, 12000] loss: 0.514\n",
            "[15,  2000] loss: 0.440\n",
            "[15,  4000] loss: 0.449\n",
            "[15,  6000] loss: 0.451\n",
            "[15,  8000] loss: 0.480\n",
            "[15, 10000] loss: 0.465\n",
            "[15, 12000] loss: 0.493\n",
            "[16,  2000] loss: 0.403\n",
            "[16,  4000] loss: 0.426\n",
            "[16,  6000] loss: 0.432\n",
            "[16,  8000] loss: 0.444\n",
            "[16, 10000] loss: 0.469\n",
            "[16, 12000] loss: 0.477\n",
            "[17,  2000] loss: 0.382\n",
            "[17,  4000] loss: 0.413\n",
            "[17,  6000] loss: 0.425\n",
            "[17,  8000] loss: 0.419\n",
            "[17, 10000] loss: 0.439\n",
            "[17, 12000] loss: 0.436\n",
            "[18,  2000] loss: 0.359\n",
            "[18,  4000] loss: 0.376\n",
            "[18,  6000] loss: 0.396\n",
            "[18,  8000] loss: 0.414\n",
            "[18, 10000] loss: 0.430\n",
            "[18, 12000] loss: 0.413\n",
            "[19,  2000] loss: 0.357\n",
            "[19,  4000] loss: 0.370\n",
            "[19,  6000] loss: 0.374\n",
            "[19,  8000] loss: 0.382\n",
            "[19, 10000] loss: 0.407\n",
            "[19, 12000] loss: 0.416\n",
            "[20,  2000] loss: 0.324\n",
            "[20,  4000] loss: 0.341\n",
            "[20,  6000] loss: 0.369\n",
            "[20,  8000] loss: 0.374\n",
            "[20, 10000] loss: 0.396\n",
            "[20, 12000] loss: 0.393\n",
            "[21,  2000] loss: 0.310\n",
            "[21,  4000] loss: 0.345\n",
            "[21,  6000] loss: 0.359\n",
            "[21,  8000] loss: 0.364\n",
            "[21, 10000] loss: 0.367\n",
            "[21, 12000] loss: 0.361\n",
            "[22,  2000] loss: 0.298\n",
            "[22,  4000] loss: 0.325\n",
            "[22,  6000] loss: 0.350\n",
            "[22,  8000] loss: 0.344\n",
            "[22, 10000] loss: 0.334\n",
            "[22, 12000] loss: 0.382\n",
            "[23,  2000] loss: 0.292\n",
            "[23,  4000] loss: 0.300\n",
            "[23,  6000] loss: 0.332\n",
            "[23,  8000] loss: 0.321\n",
            "[23, 10000] loss: 0.348\n",
            "[23, 12000] loss: 0.355\n",
            "[24,  2000] loss: 0.271\n",
            "[24,  4000] loss: 0.313\n",
            "[24,  6000] loss: 0.320\n",
            "[24,  8000] loss: 0.314\n",
            "[24, 10000] loss: 0.322\n",
            "[24, 12000] loss: 0.326\n",
            "[25,  2000] loss: 0.282\n",
            "[25,  4000] loss: 0.294\n",
            "[25,  6000] loss: 0.286\n",
            "[25,  8000] loss: 0.302\n",
            "[25, 10000] loss: 0.317\n",
            "[25, 12000] loss: 0.317\n",
            "Finished Training\n"
          ]
        }
      ],
      "source": [
        "for epoch in range(51):  # loop over the dataset multiple times\n",
        "\n",
        "    running_loss = 0.0\n",
        "    for i, data in enumerate(trainloader, 0):\n",
        "        # get the inputs\n",
        "        inputs, labels = data\n",
        "        inputs, labels = inputs.to(device), labels.to(device)\n",
        "\n",
        "\n",
        "        # zero the parameter gradients\n",
        "        optimizer.zero_grad()\n",
        "\n",
        "        # forward + backward + optimize\n",
        "        outputs = net(inputs).to(device)\n",
        "        loss = criterion(outputs, labels)\n",
        "        loss.backward()\n",
        "        optimizer.step()\n",
        "\n",
        "        # print statistics\n",
        "        running_loss += loss.item()\n",
        "        if i % 2000 == 1999:    # print every 2000 mini-batches\n",
        "            print('[%d, %5d] loss: %.3f' %\n",
        "                  (epoch + 1, i + 1, running_loss / 2000))\n",
        "            running_loss = 0.0\n",
        "\n",
        "print('Finished Training')"
      ]
    },
    {
      "cell_type": "markdown",
      "source": [
        "# Test the model for 4 images in a batch"
      ],
      "metadata": {
        "id": "9N2S_g655vHb"
      }
    },
    {
      "cell_type": "code",
      "execution_count": 11,
      "metadata": {
        "id": "JrUV9sUsdasT",
        "colab": {
          "base_uri": "https://localhost:8080/",
          "height": 190
        },
        "outputId": "89ad5a6b-979f-46d3-b426-a7453ae78792"
      },
      "outputs": [
        {
          "output_type": "stream",
          "name": "stderr",
          "text": [
            "WARNING:matplotlib.image:Clipping input data to the valid range for imshow with RGB data ([0..1] for floats or [0..255] for integers).\n"
          ]
        },
        {
          "output_type": "stream",
          "name": "stdout",
          "text": [
            "x1:  (3, 36, 138)\n",
            "GroundTruth:    cat  ship  ship plane\n"
          ]
        },
        {
          "output_type": "display_data",
          "data": {
            "text/plain": [
              "<Figure size 432x288 with 1 Axes>"
            ],
            "image/png": "[encoded data removed]"
          },
          "metadata": {
            "needs_background": "light"
          }
        }
      ],
      "source": [
        "dataiter = iter(testloader)\n",
        "\n",
        "images, labels = next(dataiter)\n",
        "\n",
        "imshow(torchvision.utils.make_grid(images))\n",
        "print('GroundTruth: ', ' '.join('%5s' % classes[labels[j]] for j in range(4)))"
      ]
    },
    {
      "cell_type": "code",
      "execution_count": 12,
      "metadata": {
        "id": "psnRzinFdavb"
      },
      "outputs": [],
      "source": [
        "images, labels = images.to(device), labels.to(device)\n",
        "outputs = net(images).to(device)\n",
        "#outputs = net(images)"
      ]
    },
    {
      "cell_type": "code",
      "execution_count": 13,
      "metadata": {
        "id": "zICOeMG2dayw",
        "colab": {
          "base_uri": "https://localhost:8080/"
        },
        "outputId": "35532fd6-3e2c-4251-bb49-ea7f38f5381a"
      },
      "outputs": [
        {
          "output_type": "stream",
          "name": "stdout",
          "text": [
            "Predicted:    cat  ship  ship  ship\n"
          ]
        }
      ],
      "source": [
        "_, predicted = torch.max(outputs, 1)\n",
        "\n",
        "print('Predicted: ', ' '.join('%5s' % classes[predicted[j]] for j in range(4)))"
      ]
    },
    {
      "cell_type": "markdown",
      "source": [
        "# Find the accuracy of the model"
      ],
      "metadata": {
        "id": "jh7Vc9-9504U"
      }
    },
    {
      "cell_type": "code",
      "execution_count": 14,
      "metadata": {
        "id": "FAAtFr8Zt1m9",
        "colab": {
          "base_uri": "https://localhost:8080/"
        },
        "outputId": "93e1e883-770f-401c-b7bb-b8b3a157128a"
      },
      "outputs": [
        {
          "output_type": "stream",
          "name": "stdout",
          "text": [
            "Accuracy of the network on the 10000 test images: 70 %\n"
          ]
        }
      ],
      "source": [
        "correct = 0\n",
        "total = 0\n",
        "with torch.no_grad():\n",
        "    for data in testloader:\n",
        "      images, labels= data\n",
        "      images, labels = images.to(device), labels.to(device)\n",
        "      outputs = net(images)\n",
        "      _, predicted = torch.max(outputs.data, 1)\n",
        "      total += labels.size(0)\n",
        "      correct += (predicted == labels).sum().item()\n",
        "\n",
        "print('Accuracy of the network on the 10000 test images: %d %%' % (100*correct / total))\n"
      ]
    },
    {
      "cell_type": "markdown",
      "source": [
        "# Find the accuracy of the each class in the model"
      ],
      "metadata": {
        "id": "PPELFP1x57u6"
      }
    },
    {
      "cell_type": "code",
      "execution_count": 15,
      "metadata": {
        "id": "1poSFLl6t15E",
        "colab": {
          "base_uri": "https://localhost:8080/"
        },
        "outputId": "c76b1cbe-3c15-4e4a-abbe-b0b7c8100a93"
      },
      "outputs": [
        {
          "output_type": "stream",
          "name": "stdout",
          "text": [
            "Accuracy of plane : 75 %\n",
            "Accuracy of   car : 80 %\n",
            "Accuracy of  bird : 64 %\n",
            "Accuracy of   cat : 49 %\n",
            "Accuracy of  deer : 65 %\n",
            "Accuracy of   dog : 59 %\n",
            "Accuracy of  frog : 76 %\n",
            "Accuracy of horse : 73 %\n",
            "Accuracy of  ship : 81 %\n",
            "Accuracy of truck : 78 %\n"
          ]
        }
      ],
      "source": [
        "class_correct = list(0. for i in range(10))\n",
        "class_total = list(0. for i in range(10))\n",
        "\n",
        "with torch.no_grad():\n",
        "  for data in testloader:\n",
        "    images, labels = data\n",
        "    images, labels = images.to(device), labels.to(device)\n",
        "    outputs = net(images)\n",
        "    _, predicted = torch.max(outputs, 1)\n",
        "    c = (predicted == labels).squeeze()\n",
        "    for i in range(4):\n",
        "      label = labels[i]\n",
        "      class_correct[label] += c[i].item()\n",
        "      class_total[label] += 1\n",
        "\n",
        "for i in range(10):\n",
        "  print('Accuracy of %5s : %2d %%' % (classes[i], 100 * class_correct[i] / class_total[i]))"
      ]
    },
    {
      "cell_type": "markdown",
      "source": [
        "# Plot the graphs"
      ],
      "metadata": {
        "id": "Gkgz31cz6Aw6"
      }
    },
    {
      "cell_type": "code",
      "execution_count": null,
      "metadata": {
        "id": "P_En3zb3t2Ro"
      },
      "outputs": [],
      "source": []
    }
  ],
  "metadata": {
    "colab": {
      "provenance": [],
      "authorship_tag": "ABX9TyM83JNjg9nr4ilYp9snvjJy",
      "include_colab_link": true
    },
    "gpuClass": "standard",
    "kernelspec": {
      "display_name": "Python 3",
      "name": "python3"
    },
    "language_info": {
      "name": "python"
    },
    "accelerator": "GPU"
  },
  "nbformat": 4,
  "nbformat_minor": 0
}